{
 "cells": [
  {
   "attachments": {},
   "cell_type": "markdown",
   "metadata": {
    "collapsed": true,
    "pycharm": {
     "name": "#%% md\n"
    }
   },
   "source": [
    "# Introduction to pandas\n",
    "\n",
    "## Why use pandas?\n",
    "\n",
    "*Addresses some shortcomings of NumPy:*\n",
    "\n",
    "1.  Data is organized in *variables* and *observations*\n",
    "\n",
    "2.  Each variable is permitted to have a *different* data type (integers, floats, strings, ...)\n",
    "\n",
    "3.  Can select observations based on *labels* (e.g., time or date)\n",
    "\n",
    "4.  Supports aggregation & reduction functions applied to *subsets* of data\n",
    "\n",
    "5.  Many convenient data import / export functions\n",
    "\n",
    "## Why not?\n",
    "\n",
    "1.  NumPy is faster for low-level computing on homogenous data\n",
    "2.  Pandas can consume lots of memory\n",
    "3.  Pandas can be slow with large data sets (millions of observations)\n",
    "\n",
    "## Resources\n",
    "\n",
    "- [pandas cheat sheet](https://pandas.pydata.org/Pandas_Cheat_Sheet.pdf)\n"
   ]
  },
  {
   "cell_type": "markdown",
   "metadata": {},
   "source": [
    "***\n",
    "## Creating pandas data structures\n",
    "\n",
    "Pandas has two main data structures:\n",
    "\n",
    "1.  [`Series`](https://pandas.pydata.org/docs/reference/series.html): \n",
    "    observations of a *single* variable.\n",
    "2.  [`DataFrame`](https://pandas.pydata.org/docs/reference/frame.html): \n",
    "    container for *several* variables."
   ]
  },
  {
   "cell_type": "markdown",
   "metadata": {},
   "source": [
    "*Example: Create Series from 1-dimensional NumPy array*"
   ]
  },
  {
   "cell_type": "code",
   "execution_count": 1,
   "metadata": {},
   "outputs": [],
   "source": [
    "# Need to import pandas before usage\n",
    "import pandas as pd\n",
    "\n",
    "# Import NumPy to create some demo data\n",
    "import numpy as np"
   ]
  },
  {
   "cell_type": "markdown",
   "metadata": {},
   "source": [
    "*Example: Create DataFrame from NumPy array*\n",
    "\n",
    "-   We can create 2-dimensional arrays from 1-dimensional ones with \n",
    "    [`reshape()`](https://numpy.org/doc/stable/reference/generated/numpy.reshape.html)"
   ]
  },
  {
   "cell_type": "markdown",
   "metadata": {},
   "source": [
    "*Example: Create DataFrame with non-homogenous data from dictionary*"
   ]
  },
  {
   "cell_type": "code",
   "execution_count": 1,
   "metadata": {},
   "outputs": [],
   "source": [
    "import numpy as np\n",
    "import pandas as pd\n",
    "\n",
    "# Names (strings)\n",
    "names = ['Alice', 'Bob']\n",
    "\n",
    "# Birth dates (datetime objects)\n",
    "bdates = pd.to_datetime(['1985-01-01', '1997-05-12'])\n",
    "\n",
    "# Incomes (floats)\n",
    "incomes = np.array([600000, np.nan])         # code missing income as NaN"
   ]
  },
  {
   "cell_type": "markdown",
   "metadata": {},
   "source": [
    "<div class=\"alert alert-info\">\n",
    "<h3> Your turn</h3>\n",
    "\n",
    "Create a pandas <tt>Series</tt> which contains the characters <tt>'a'</tt>, <tt>'b'</tt>, and <tt>'c'</tt>.\n",
    "\n",
    "</div>"
   ]
  },
  {
   "cell_type": "code",
   "execution_count": 2,
   "metadata": {},
   "outputs": [
    {
     "data": {
      "application/vnd.microsoft.datawrangler.viewer.v0+json": {
       "columns": [
        {
         "name": "index",
         "rawType": "int64",
         "type": "integer"
        },
        {
         "name": "0",
         "rawType": "object",
         "type": "string"
        }
       ],
       "ref": "7a5ae925-f9f6-408a-b50d-7aceaf970126",
       "rows": [
        [
         "0",
         "a"
        ],
        [
         "1",
         "b"
        ],
        [
         "2",
         "c"
        ]
       ],
       "shape": {
        "columns": 1,
        "rows": 3
       }
      },
      "text/plain": [
       "0    a\n",
       "1    b\n",
       "2    c\n",
       "dtype: object"
      ]
     },
     "execution_count": 2,
     "metadata": {},
     "output_type": "execute_result"
    }
   ],
   "source": [
    "pd.Series(np.array(['a', \"b\", \"c\"]))"
   ]
  },
  {
   "cell_type": "markdown",
   "metadata": {},
   "source": [
    "***\n",
    "## Importing data"
   ]
  },
  {
   "cell_type": "markdown",
   "metadata": {},
   "source": [
    "### Loading data with NumPy & its limitations (optional)\n",
    "\n",
    "-   See final lecture notebook if you are interested"
   ]
  },
  {
   "cell_type": "markdown",
   "metadata": {},
   "source": [
    "***\n",
    "### Loading data with Pandas\n",
    "\n",
    "The most important input/output functions are:\n",
    "\n",
    "-   [`read_csv()`](https://pandas.pydata.org/pandas-docs/stable/reference/api/pandas.read_csv.html), \n",
    "    [`to_csv()`](https://pandas.pydata.org/pandas-docs/stable/reference/api/pandas.DataFrame.to_csv.html): \n",
    "    Read or write CSV text files.\n",
    "-   [`read_fwf()`](https://pandas.pydata.org/pandas-docs/stable/reference/api/pandas.read_fwf.html): \n",
    "    Read data with fixed field widths, i.e., text data\n",
    "    that does not use delimiters to separate fields.\n",
    "-   [`read_excel()`](https://pandas.pydata.org/pandas-docs/stable/reference/api/pandas.read_excel.html), \n",
    "    [`to_excel()`](https://pandas.pydata.org/pandas-docs/stable/reference/api/pandas.DataFrame.to_excel.html): \n",
    "    Read or write Excel spreadsheets.\n",
    "-   [`read_stata()`](https://pandas.pydata.org/pandas-docs/stable/reference/api/pandas.read_stata.html), \n",
    "    [`to_stata()`](https://pandas.pydata.org/pandas-docs/stable/reference/api/pandas.DataFrame.to_stata.html): \n",
    "    Read or write Stata's `.dta` files."
   ]
  },
  {
   "cell_type": "markdown",
   "metadata": {},
   "source": [
    "*Example: Load data using `read_csv()`*"
   ]
  },
  {
   "cell_type": "code",
   "execution_count": 2,
   "metadata": {},
   "outputs": [],
   "source": [
    "# Uncomment this to use files in the local data/ directory\n",
    "DATA_PATH = '../../data'\n",
    "#First go up one level, then another, and then the data folder\n",
    "#if in the same directory: DATA_PATH = \".\"\"lecture2-template copy.ipynb\"\n",
    "\n",
    "filename = f'{DATA_PATH}/FRED/FRED_annual.csv'\n",
    "\n",
    "df=pd.read_csv(filename, sep=',')"
   ]
  },
  {
   "cell_type": "code",
   "execution_count": 3,
   "metadata": {},
   "outputs": [
    {
     "data": {
      "application/vnd.microsoft.datawrangler.viewer.v0+json": {
       "columns": [
        {
         "name": "index",
         "rawType": "int64",
         "type": "integer"
        },
        {
         "name": "Year",
         "rawType": "int64",
         "type": "integer"
        },
        {
         "name": "GDP",
         "rawType": "float64",
         "type": "float"
        },
        {
         "name": "CPI",
         "rawType": "float64",
         "type": "float"
        },
        {
         "name": "UNRATE",
         "rawType": "float64",
         "type": "float"
        },
        {
         "name": "FEDFUNDS",
         "rawType": "float64",
         "type": "float"
        },
        {
         "name": "INFLATION",
         "rawType": "float64",
         "type": "float"
        }
       ],
       "ref": "c951087d-61b9-481d-bf2d-541564cdb1e2",
       "rows": [
        [
         "0",
         "1954",
         "2877.7",
         "26.9",
         "5.6",
         "1.0",
         null
        ],
        [
         "1",
         "1955",
         "3083.0",
         "26.8",
         "4.4",
         "1.8",
         "-0.4"
        ],
        [
         "2",
         "1956",
         "3148.8",
         "27.2",
         "4.1",
         "2.7",
         "1.5"
        ],
        [
         "3",
         "1957",
         "3215.1",
         "28.1",
         "4.3",
         "3.1",
         "3.3"
        ],
        [
         "4",
         "1958",
         "3191.2",
         "28.9",
         "6.8",
         "1.6",
         "2.8"
        ],
        [
         "5",
         "1959",
         "3412.4",
         "29.2",
         "5.4",
         "3.3",
         "1.0"
        ],
        [
         "6",
         "1960",
         "3500.3",
         "29.6",
         "5.5",
         "3.2",
         "1.4"
        ],
        [
         "7",
         "1961",
         "3590.1",
         "29.9",
         "6.7",
         "2.0",
         "1.0"
        ],
        [
         "8",
         "1962",
         "3810.1",
         "30.3",
         "5.6",
         "2.7",
         "1.3"
        ],
        [
         "9",
         "1963",
         "3976.1",
         "30.6",
         "5.6",
         "3.2",
         "1.0"
        ],
        [
         "10",
         "1964",
         "4205.3",
         "31.0",
         "5.2",
         "3.5",
         "1.3"
        ],
        [
         "11",
         "1965",
         "4478.6",
         "31.5",
         "4.5",
         "4.1",
         "1.6"
        ],
        [
         "12",
         "1966",
         "4773.9",
         "32.5",
         "3.8",
         "5.1",
         "3.2"
        ],
        [
         "13",
         "1967",
         "4904.9",
         "33.4",
         "3.8",
         "4.2",
         "2.8"
        ],
        [
         "14",
         "1968",
         "5145.9",
         "34.8",
         "3.6",
         "5.7",
         "4.2"
        ],
        [
         "15",
         "1969",
         "5306.6",
         "36.7",
         "3.5",
         "8.2",
         "5.5"
        ],
        [
         "16",
         "1970",
         "5316.4",
         "38.8",
         "5.0",
         "7.2",
         "5.7"
        ],
        [
         "17",
         "1971",
         "5491.4",
         "40.5",
         "6.0",
         "4.7",
         "4.4"
        ],
        [
         "18",
         "1972",
         "5780.0",
         "41.8",
         "5.6",
         "4.4",
         "3.2"
        ],
        [
         "19",
         "1973",
         "6106.4",
         "44.4",
         "4.9",
         "8.7",
         "6.2"
        ],
        [
         "20",
         "1974",
         "6073.4",
         "49.3",
         "5.6",
         "10.5",
         "11.0"
        ],
        [
         "21",
         "1975",
         "6060.9",
         "53.8",
         "8.5",
         "5.8",
         "9.1"
        ],
        [
         "22",
         "1976",
         "6387.4",
         "56.9",
         "7.7",
         "5.0",
         "5.8"
        ],
        [
         "23",
         "1977",
         "6682.8",
         "60.6",
         "7.0",
         "5.5",
         "6.5"
        ],
        [
         "24",
         "1978",
         "7052.7",
         "65.2",
         "6.1",
         "7.9",
         "7.6"
        ],
        [
         "25",
         "1979",
         "7276.0",
         "72.6",
         "5.9",
         "11.2",
         "11.3"
        ],
        [
         "26",
         "1980",
         "7257.3",
         "82.4",
         "7.2",
         "13.4",
         "13.5"
        ],
        [
         "27",
         "1981",
         "7441.5",
         "90.9",
         "7.6",
         "16.4",
         "10.3"
        ],
        [
         "28",
         "1982",
         "7307.3",
         "96.5",
         "9.7",
         "12.3",
         "6.2"
        ],
        [
         "29",
         "1983",
         "7642.3",
         "99.6",
         "9.6",
         "9.1",
         "3.2"
        ],
        [
         "30",
         "1984",
         "8195.3",
         "103.9",
         "7.5",
         "10.2",
         "4.3"
        ],
        [
         "31",
         "1985",
         "8537.0",
         "107.6",
         "7.2",
         "8.1",
         "3.6"
        ],
        [
         "32",
         "1986",
         "8832.6",
         "109.7",
         "7.0",
         "6.8",
         "2.0"
        ],
        [
         "33",
         "1987",
         "9137.7",
         "113.6",
         "6.2",
         "6.7",
         "3.6"
        ],
        [
         "34",
         "1988",
         "9519.4",
         "118.3",
         "5.5",
         "7.6",
         "4.1"
        ],
        [
         "35",
         "1989",
         "9869.0",
         "123.9",
         "5.3",
         "9.2",
         "4.7"
        ],
        [
         "36",
         "1990",
         "10055.1",
         "130.7",
         "5.6",
         "8.1",
         "5.5"
        ],
        [
         "37",
         "1991",
         "10044.2",
         "136.2",
         "6.8",
         "5.7",
         "4.2"
        ],
        [
         "38",
         "1992",
         "10398.0",
         "140.3",
         "7.5",
         "3.5",
         "3.0"
        ],
        [
         "39",
         "1993",
         "10684.2",
         "144.5",
         "6.9",
         "3.0",
         "3.0"
        ],
        [
         "40",
         "1994",
         "11114.6",
         "148.2",
         "6.1",
         "4.2",
         "2.6"
        ],
        [
         "41",
         "1995",
         "11413.0",
         "152.4",
         "5.6",
         "5.8",
         "2.8"
        ],
        [
         "42",
         "1996",
         "11843.6",
         "156.9",
         "5.4",
         "5.3",
         "3.0"
        ],
        [
         "43",
         "1997",
         "12370.3",
         "160.5",
         "4.9",
         "5.5",
         "2.3"
        ],
        [
         "44",
         "1998",
         "12924.9",
         "163.0",
         "4.5",
         "5.4",
         "1.6"
        ],
        [
         "45",
         "1999",
         "13543.8",
         "166.6",
         "4.2",
         "5.0",
         "2.2"
        ],
        [
         "46",
         "2000",
         "14096.0",
         "172.2",
         "4.0",
         "6.2",
         "3.4"
        ],
        [
         "47",
         "2001",
         "14230.7",
         "177.0",
         "4.7",
         "3.9",
         "2.8"
        ],
        [
         "48",
         "2002",
         "14472.7",
         "179.9",
         "5.8",
         "1.7",
         "1.6"
        ],
        [
         "49",
         "2003",
         "14877.3",
         "184.0",
         "6.0",
         "1.1",
         "2.3"
        ]
       ],
       "shape": {
        "columns": 6,
        "rows": 71
       }
      },
      "text/html": [
       "<div>\n",
       "<style scoped>\n",
       "    .dataframe tbody tr th:only-of-type {\n",
       "        vertical-align: middle;\n",
       "    }\n",
       "\n",
       "    .dataframe tbody tr th {\n",
       "        vertical-align: top;\n",
       "    }\n",
       "\n",
       "    .dataframe thead th {\n",
       "        text-align: right;\n",
       "    }\n",
       "</style>\n",
       "<table border=\"1\" class=\"dataframe\">\n",
       "  <thead>\n",
       "    <tr style=\"text-align: right;\">\n",
       "      <th></th>\n",
       "      <th>Year</th>\n",
       "      <th>GDP</th>\n",
       "      <th>CPI</th>\n",
       "      <th>UNRATE</th>\n",
       "      <th>FEDFUNDS</th>\n",
       "      <th>INFLATION</th>\n",
       "    </tr>\n",
       "  </thead>\n",
       "  <tbody>\n",
       "    <tr>\n",
       "      <th>0</th>\n",
       "      <td>1954</td>\n",
       "      <td>2877.7</td>\n",
       "      <td>26.9</td>\n",
       "      <td>5.6</td>\n",
       "      <td>1.0</td>\n",
       "      <td>NaN</td>\n",
       "    </tr>\n",
       "    <tr>\n",
       "      <th>1</th>\n",
       "      <td>1955</td>\n",
       "      <td>3083.0</td>\n",
       "      <td>26.8</td>\n",
       "      <td>4.4</td>\n",
       "      <td>1.8</td>\n",
       "      <td>-0.4</td>\n",
       "    </tr>\n",
       "    <tr>\n",
       "      <th>2</th>\n",
       "      <td>1956</td>\n",
       "      <td>3148.8</td>\n",
       "      <td>27.2</td>\n",
       "      <td>4.1</td>\n",
       "      <td>2.7</td>\n",
       "      <td>1.5</td>\n",
       "    </tr>\n",
       "    <tr>\n",
       "      <th>3</th>\n",
       "      <td>1957</td>\n",
       "      <td>3215.1</td>\n",
       "      <td>28.1</td>\n",
       "      <td>4.3</td>\n",
       "      <td>3.1</td>\n",
       "      <td>3.3</td>\n",
       "    </tr>\n",
       "    <tr>\n",
       "      <th>4</th>\n",
       "      <td>1958</td>\n",
       "      <td>3191.2</td>\n",
       "      <td>28.9</td>\n",
       "      <td>6.8</td>\n",
       "      <td>1.6</td>\n",
       "      <td>2.8</td>\n",
       "    </tr>\n",
       "    <tr>\n",
       "      <th>...</th>\n",
       "      <td>...</td>\n",
       "      <td>...</td>\n",
       "      <td>...</td>\n",
       "      <td>...</td>\n",
       "      <td>...</td>\n",
       "      <td>...</td>\n",
       "    </tr>\n",
       "    <tr>\n",
       "      <th>66</th>\n",
       "      <td>2020</td>\n",
       "      <td>20267.6</td>\n",
       "      <td>258.9</td>\n",
       "      <td>8.1</td>\n",
       "      <td>0.4</td>\n",
       "      <td>1.3</td>\n",
       "    </tr>\n",
       "    <tr>\n",
       "      <th>67</th>\n",
       "      <td>2021</td>\n",
       "      <td>21494.8</td>\n",
       "      <td>271.0</td>\n",
       "      <td>5.4</td>\n",
       "      <td>0.1</td>\n",
       "      <td>4.7</td>\n",
       "    </tr>\n",
       "    <tr>\n",
       "      <th>68</th>\n",
       "      <td>2022</td>\n",
       "      <td>22034.8</td>\n",
       "      <td>292.6</td>\n",
       "      <td>3.6</td>\n",
       "      <td>1.7</td>\n",
       "      <td>8.0</td>\n",
       "    </tr>\n",
       "    <tr>\n",
       "      <th>69</th>\n",
       "      <td>2023</td>\n",
       "      <td>22671.1</td>\n",
       "      <td>304.7</td>\n",
       "      <td>3.6</td>\n",
       "      <td>5.0</td>\n",
       "      <td>4.1</td>\n",
       "    </tr>\n",
       "    <tr>\n",
       "      <th>70</th>\n",
       "      <td>2024</td>\n",
       "      <td>23302.2</td>\n",
       "      <td>313.7</td>\n",
       "      <td>4.0</td>\n",
       "      <td>5.1</td>\n",
       "      <td>3.0</td>\n",
       "    </tr>\n",
       "  </tbody>\n",
       "</table>\n",
       "<p>71 rows × 6 columns</p>\n",
       "</div>"
      ],
      "text/plain": [
       "    Year      GDP    CPI  UNRATE  FEDFUNDS  INFLATION\n",
       "0   1954   2877.7   26.9     5.6       1.0        NaN\n",
       "1   1955   3083.0   26.8     4.4       1.8       -0.4\n",
       "2   1956   3148.8   27.2     4.1       2.7        1.5\n",
       "3   1957   3215.1   28.1     4.3       3.1        3.3\n",
       "4   1958   3191.2   28.9     6.8       1.6        2.8\n",
       "..   ...      ...    ...     ...       ...        ...\n",
       "66  2020  20267.6  258.9     8.1       0.4        1.3\n",
       "67  2021  21494.8  271.0     5.4       0.1        4.7\n",
       "68  2022  22034.8  292.6     3.6       1.7        8.0\n",
       "69  2023  22671.1  304.7     3.6       5.0        4.1\n",
       "70  2024  23302.2  313.7     4.0       5.1        3.0\n",
       "\n",
       "[71 rows x 6 columns]"
      ]
     },
     "execution_count": 3,
     "metadata": {},
     "output_type": "execute_result"
    }
   ],
   "source": [
    "df"
   ]
  },
  {
   "cell_type": "markdown",
   "metadata": {},
   "source": [
    "<div class=\"alert alert-info\">\n",
    "<h3> Your turn</h3>\n",
    "Use the pandas functions listed above to import data from the following files located in the <TT>data</TT> folder:\n",
    "<ol>\n",
    "    <li>titanic.csv</li>\n",
    "    <li>FRED/FRED_annual.xlsx</li>\n",
    "</ol>\n",
    "\n",
    "To load Excel files, you need to have the package <TT>openpyxl</TT> installed.\n",
    "</div>"
   ]
  },
  {
   "cell_type": "code",
   "execution_count": 12,
   "metadata": {},
   "outputs": [
    {
     "data": {
      "text/html": [
       "<div>\n",
       "<style scoped>\n",
       "    .dataframe tbody tr th:only-of-type {\n",
       "        vertical-align: middle;\n",
       "    }\n",
       "\n",
       "    .dataframe tbody tr th {\n",
       "        vertical-align: top;\n",
       "    }\n",
       "\n",
       "    .dataframe thead th {\n",
       "        text-align: right;\n",
       "    }\n",
       "</style>\n",
       "<table border=\"1\" class=\"dataframe\">\n",
       "  <thead>\n",
       "    <tr style=\"text-align: right;\">\n",
       "      <th></th>\n",
       "      <th>PassengerId</th>\n",
       "      <th>Survived</th>\n",
       "      <th>Pclass</th>\n",
       "      <th>Name</th>\n",
       "      <th>Sex</th>\n",
       "      <th>Age</th>\n",
       "      <th>Ticket</th>\n",
       "      <th>Fare</th>\n",
       "      <th>Cabin</th>\n",
       "      <th>Embarked</th>\n",
       "    </tr>\n",
       "  </thead>\n",
       "  <tbody>\n",
       "    <tr>\n",
       "      <th>0</th>\n",
       "      <td>1</td>\n",
       "      <td>0</td>\n",
       "      <td>3</td>\n",
       "      <td>Braund, Mr. Owen Harris</td>\n",
       "      <td>male</td>\n",
       "      <td>22.0</td>\n",
       "      <td>A/5 21171</td>\n",
       "      <td>7.2500</td>\n",
       "      <td>NaN</td>\n",
       "      <td>S</td>\n",
       "    </tr>\n",
       "    <tr>\n",
       "      <th>1</th>\n",
       "      <td>2</td>\n",
       "      <td>1</td>\n",
       "      <td>1</td>\n",
       "      <td>Cumings, Mrs. John Bradley (Florence Briggs Th...</td>\n",
       "      <td>female</td>\n",
       "      <td>38.0</td>\n",
       "      <td>PC 17599</td>\n",
       "      <td>71.2833</td>\n",
       "      <td>C85</td>\n",
       "      <td>C</td>\n",
       "    </tr>\n",
       "    <tr>\n",
       "      <th>2</th>\n",
       "      <td>3</td>\n",
       "      <td>1</td>\n",
       "      <td>3</td>\n",
       "      <td>Heikkinen, Miss Laina</td>\n",
       "      <td>female</td>\n",
       "      <td>26.0</td>\n",
       "      <td>STON/O2. 3101282</td>\n",
       "      <td>7.9250</td>\n",
       "      <td>NaN</td>\n",
       "      <td>S</td>\n",
       "    </tr>\n",
       "    <tr>\n",
       "      <th>3</th>\n",
       "      <td>4</td>\n",
       "      <td>1</td>\n",
       "      <td>1</td>\n",
       "      <td>Futrelle, Mrs. Jacques Heath (Lily May Peel)</td>\n",
       "      <td>female</td>\n",
       "      <td>35.0</td>\n",
       "      <td>113803</td>\n",
       "      <td>53.1000</td>\n",
       "      <td>C123</td>\n",
       "      <td>S</td>\n",
       "    </tr>\n",
       "    <tr>\n",
       "      <th>4</th>\n",
       "      <td>5</td>\n",
       "      <td>0</td>\n",
       "      <td>3</td>\n",
       "      <td>Allen, Mr. William Henry</td>\n",
       "      <td>male</td>\n",
       "      <td>35.0</td>\n",
       "      <td>373450</td>\n",
       "      <td>8.0500</td>\n",
       "      <td>NaN</td>\n",
       "      <td>S</td>\n",
       "    </tr>\n",
       "    <tr>\n",
       "      <th>...</th>\n",
       "      <td>...</td>\n",
       "      <td>...</td>\n",
       "      <td>...</td>\n",
       "      <td>...</td>\n",
       "      <td>...</td>\n",
       "      <td>...</td>\n",
       "      <td>...</td>\n",
       "      <td>...</td>\n",
       "      <td>...</td>\n",
       "      <td>...</td>\n",
       "    </tr>\n",
       "    <tr>\n",
       "      <th>886</th>\n",
       "      <td>887</td>\n",
       "      <td>0</td>\n",
       "      <td>2</td>\n",
       "      <td>Montvila, Rev. Juozas</td>\n",
       "      <td>male</td>\n",
       "      <td>27.0</td>\n",
       "      <td>211536</td>\n",
       "      <td>13.0000</td>\n",
       "      <td>NaN</td>\n",
       "      <td>S</td>\n",
       "    </tr>\n",
       "    <tr>\n",
       "      <th>887</th>\n",
       "      <td>888</td>\n",
       "      <td>1</td>\n",
       "      <td>1</td>\n",
       "      <td>Graham, Miss Margaret Edith</td>\n",
       "      <td>female</td>\n",
       "      <td>19.0</td>\n",
       "      <td>112053</td>\n",
       "      <td>30.0000</td>\n",
       "      <td>B42</td>\n",
       "      <td>S</td>\n",
       "    </tr>\n",
       "    <tr>\n",
       "      <th>888</th>\n",
       "      <td>889</td>\n",
       "      <td>0</td>\n",
       "      <td>3</td>\n",
       "      <td>Johnston, Miss Catherine Helen \"Carrie\"</td>\n",
       "      <td>female</td>\n",
       "      <td>NaN</td>\n",
       "      <td>W./C. 6607</td>\n",
       "      <td>23.4500</td>\n",
       "      <td>NaN</td>\n",
       "      <td>S</td>\n",
       "    </tr>\n",
       "    <tr>\n",
       "      <th>889</th>\n",
       "      <td>890</td>\n",
       "      <td>1</td>\n",
       "      <td>1</td>\n",
       "      <td>Behr, Mr. Karl Howell</td>\n",
       "      <td>male</td>\n",
       "      <td>26.0</td>\n",
       "      <td>111369</td>\n",
       "      <td>30.0000</td>\n",
       "      <td>C148</td>\n",
       "      <td>C</td>\n",
       "    </tr>\n",
       "    <tr>\n",
       "      <th>890</th>\n",
       "      <td>891</td>\n",
       "      <td>0</td>\n",
       "      <td>3</td>\n",
       "      <td>Dooley, Mr. Patrick</td>\n",
       "      <td>male</td>\n",
       "      <td>32.0</td>\n",
       "      <td>370376</td>\n",
       "      <td>7.7500</td>\n",
       "      <td>NaN</td>\n",
       "      <td>Q</td>\n",
       "    </tr>\n",
       "  </tbody>\n",
       "</table>\n",
       "<p>891 rows × 10 columns</p>\n",
       "</div>"
      ],
      "text/plain": [
       "     PassengerId  Survived  Pclass  \\\n",
       "0              1         0       3   \n",
       "1              2         1       1   \n",
       "2              3         1       3   \n",
       "3              4         1       1   \n",
       "4              5         0       3   \n",
       "..           ...       ...     ...   \n",
       "886          887         0       2   \n",
       "887          888         1       1   \n",
       "888          889         0       3   \n",
       "889          890         1       1   \n",
       "890          891         0       3   \n",
       "\n",
       "                                                  Name     Sex   Age  \\\n",
       "0                              Braund, Mr. Owen Harris    male  22.0   \n",
       "1    Cumings, Mrs. John Bradley (Florence Briggs Th...  female  38.0   \n",
       "2                                Heikkinen, Miss Laina  female  26.0   \n",
       "3         Futrelle, Mrs. Jacques Heath (Lily May Peel)  female  35.0   \n",
       "4                             Allen, Mr. William Henry    male  35.0   \n",
       "..                                                 ...     ...   ...   \n",
       "886                              Montvila, Rev. Juozas    male  27.0   \n",
       "887                        Graham, Miss Margaret Edith  female  19.0   \n",
       "888            Johnston, Miss Catherine Helen \"Carrie\"  female   NaN   \n",
       "889                              Behr, Mr. Karl Howell    male  26.0   \n",
       "890                                Dooley, Mr. Patrick    male  32.0   \n",
       "\n",
       "               Ticket     Fare Cabin Embarked  \n",
       "0           A/5 21171   7.2500   NaN        S  \n",
       "1            PC 17599  71.2833   C85        C  \n",
       "2    STON/O2. 3101282   7.9250   NaN        S  \n",
       "3              113803  53.1000  C123        S  \n",
       "4              373450   8.0500   NaN        S  \n",
       "..                ...      ...   ...      ...  \n",
       "886            211536  13.0000   NaN        S  \n",
       "887            112053  30.0000   B42        S  \n",
       "888        W./C. 6607  23.4500   NaN        S  \n",
       "889            111369  30.0000  C148        C  \n",
       "890            370376   7.7500   NaN        Q  \n",
       "\n",
       "[891 rows x 10 columns]"
      ]
     },
     "execution_count": 12,
     "metadata": {},
     "output_type": "execute_result"
    }
   ],
   "source": [
    "dp = '../../data'\n",
    "\n",
    "fn = f'{dp}/titanic.csv'\n",
    "\n",
    "pf = pd.read_csv(fn)\n",
    "\n",
    "pf"
   ]
  },
  {
   "cell_type": "code",
   "execution_count": 15,
   "metadata": {},
   "outputs": [
    {
     "data": {
      "text/html": [
       "<div>\n",
       "<style scoped>\n",
       "    .dataframe tbody tr th:only-of-type {\n",
       "        vertical-align: middle;\n",
       "    }\n",
       "\n",
       "    .dataframe tbody tr th {\n",
       "        vertical-align: top;\n",
       "    }\n",
       "\n",
       "    .dataframe thead th {\n",
       "        text-align: right;\n",
       "    }\n",
       "</style>\n",
       "<table border=\"1\" class=\"dataframe\">\n",
       "  <thead>\n",
       "    <tr style=\"text-align: right;\">\n",
       "      <th></th>\n",
       "      <th>Year</th>\n",
       "      <th>GDP</th>\n",
       "      <th>CPI</th>\n",
       "      <th>UNRATE</th>\n",
       "      <th>FEDFUNDS</th>\n",
       "      <th>INFLATION</th>\n",
       "    </tr>\n",
       "  </thead>\n",
       "  <tbody>\n",
       "    <tr>\n",
       "      <th>0</th>\n",
       "      <td>1954</td>\n",
       "      <td>2877.7</td>\n",
       "      <td>26.9</td>\n",
       "      <td>5.6</td>\n",
       "      <td>1.0</td>\n",
       "      <td>NaN</td>\n",
       "    </tr>\n",
       "    <tr>\n",
       "      <th>1</th>\n",
       "      <td>1955</td>\n",
       "      <td>3083.0</td>\n",
       "      <td>26.8</td>\n",
       "      <td>4.4</td>\n",
       "      <td>1.8</td>\n",
       "      <td>-0.371747</td>\n",
       "    </tr>\n",
       "    <tr>\n",
       "      <th>2</th>\n",
       "      <td>1956</td>\n",
       "      <td>3148.8</td>\n",
       "      <td>27.2</td>\n",
       "      <td>4.1</td>\n",
       "      <td>2.7</td>\n",
       "      <td>1.492537</td>\n",
       "    </tr>\n",
       "    <tr>\n",
       "      <th>3</th>\n",
       "      <td>1957</td>\n",
       "      <td>3215.1</td>\n",
       "      <td>28.1</td>\n",
       "      <td>4.3</td>\n",
       "      <td>3.1</td>\n",
       "      <td>3.308824</td>\n",
       "    </tr>\n",
       "    <tr>\n",
       "      <th>4</th>\n",
       "      <td>1958</td>\n",
       "      <td>3191.2</td>\n",
       "      <td>28.9</td>\n",
       "      <td>6.8</td>\n",
       "      <td>1.6</td>\n",
       "      <td>2.846975</td>\n",
       "    </tr>\n",
       "    <tr>\n",
       "      <th>...</th>\n",
       "      <td>...</td>\n",
       "      <td>...</td>\n",
       "      <td>...</td>\n",
       "      <td>...</td>\n",
       "      <td>...</td>\n",
       "      <td>...</td>\n",
       "    </tr>\n",
       "    <tr>\n",
       "      <th>65</th>\n",
       "      <td>2019</td>\n",
       "      <td>20715.7</td>\n",
       "      <td>255.7</td>\n",
       "      <td>3.7</td>\n",
       "      <td>2.2</td>\n",
       "      <td>1.831939</td>\n",
       "    </tr>\n",
       "    <tr>\n",
       "      <th>66</th>\n",
       "      <td>2020</td>\n",
       "      <td>20267.6</td>\n",
       "      <td>258.8</td>\n",
       "      <td>8.1</td>\n",
       "      <td>0.4</td>\n",
       "      <td>1.212358</td>\n",
       "    </tr>\n",
       "    <tr>\n",
       "      <th>67</th>\n",
       "      <td>2021</td>\n",
       "      <td>21494.8</td>\n",
       "      <td>271.0</td>\n",
       "      <td>5.4</td>\n",
       "      <td>0.1</td>\n",
       "      <td>4.714065</td>\n",
       "    </tr>\n",
       "    <tr>\n",
       "      <th>68</th>\n",
       "      <td>2022</td>\n",
       "      <td>22034.8</td>\n",
       "      <td>292.6</td>\n",
       "      <td>3.6</td>\n",
       "      <td>1.7</td>\n",
       "      <td>7.970480</td>\n",
       "    </tr>\n",
       "    <tr>\n",
       "      <th>69</th>\n",
       "      <td>2023</td>\n",
       "      <td>22671.1</td>\n",
       "      <td>304.7</td>\n",
       "      <td>3.6</td>\n",
       "      <td>5.0</td>\n",
       "      <td>4.135338</td>\n",
       "    </tr>\n",
       "  </tbody>\n",
       "</table>\n",
       "<p>70 rows × 6 columns</p>\n",
       "</div>"
      ],
      "text/plain": [
       "    Year      GDP    CPI  UNRATE  FEDFUNDS  INFLATION\n",
       "0   1954   2877.7   26.9     5.6       1.0        NaN\n",
       "1   1955   3083.0   26.8     4.4       1.8  -0.371747\n",
       "2   1956   3148.8   27.2     4.1       2.7   1.492537\n",
       "3   1957   3215.1   28.1     4.3       3.1   3.308824\n",
       "4   1958   3191.2   28.9     6.8       1.6   2.846975\n",
       "..   ...      ...    ...     ...       ...        ...\n",
       "65  2019  20715.7  255.7     3.7       2.2   1.831939\n",
       "66  2020  20267.6  258.8     8.1       0.4   1.212358\n",
       "67  2021  21494.8  271.0     5.4       0.1   4.714065\n",
       "68  2022  22034.8  292.6     3.6       1.7   7.970480\n",
       "69  2023  22671.1  304.7     3.6       5.0   4.135338\n",
       "\n",
       "[70 rows x 6 columns]"
      ]
     },
     "execution_count": 15,
     "metadata": {},
     "output_type": "execute_result"
    }
   ],
   "source": [
    "fn2 = f'{dp}/FRED/FRED_annual.xlsx'\n",
    "\n",
    "xf = pd.read_excel(fn2)\n",
    "\n",
    "xf"
   ]
  },
  {
   "cell_type": "markdown",
   "metadata": {},
   "source": [
    "***\n",
    "## Viewing data"
   ]
  },
  {
   "cell_type": "markdown",
   "metadata": {},
   "source": [
    "Methods for inspecting (parts of) a DataFrame:\n",
    "\n",
    "- [`info()`](https://pandas.pydata.org/docs/reference/api/pandas.DataFrame.info.html): print information about observation count, columns, and data types\n",
    "- [`head()`](https://pandas.pydata.org/docs/reference/api/pandas.DataFrame.head.html): print the first few rows\n",
    "- [`tail()`](https://pandas.pydata.org/docs/reference/api/pandas.DataFrame.tail.html): print the last few rows\n",
    "- [`describe()`](https://pandas.pydata.org/docs/reference/api/pandas.DataFrame.describe.html): print summary statistics for *numerical* data\n",
    "- [`value_counts()`](https://pandas.pydata.org/docs/reference/api/pandas.DataFrame.value_counts.html): tabulate observation counts for categorical data\n",
    "\n"
   ]
  },
  {
   "cell_type": "markdown",
   "metadata": {},
   "source": [
    "*Example: Load and view Titanic data set*\n",
    "\n",
    "Columns present in the file `titanic.csv`:\n",
    "\n",
    "1.  `PassengerId`\n",
    "2.  `Survived`: indicator whether the person survived\n",
    "3.  `Pclass`: accommodation class (first, second, third)\n",
    "4.  `Name`: Name of passenger (last name, first name)\n",
    "5.  `Sex`: `male` or `female`\n",
    "6.  `Age`\n",
    "7.  `Ticket`: Ticket number\n",
    "8.  `Fare`: Fare in pounds\n",
    "9.  `Cabin`: Deck + cabin number\n",
    "10. `Embarked`: Port at which passenger embarked:\n",
    "    `C` - Cherbourg, `Q` - Queenstown, `S` - Southampton"
   ]
  },
  {
   "cell_type": "code",
   "execution_count": 19,
   "metadata": {},
   "outputs": [
    {
     "name": "stdout",
     "output_type": "stream",
     "text": [
      "<class 'pandas.core.frame.DataFrame'>\n",
      "RangeIndex: 70 entries, 0 to 69\n",
      "Data columns (total 6 columns):\n",
      " #   Column     Non-Null Count  Dtype  \n",
      "---  ------     --------------  -----  \n",
      " 0   Year       70 non-null     int64  \n",
      " 1   GDP        70 non-null     float64\n",
      " 2   CPI        70 non-null     float64\n",
      " 3   UNRATE     70 non-null     float64\n",
      " 4   FEDFUNDS   70 non-null     float64\n",
      " 5   INFLATION  69 non-null     float64\n",
      "dtypes: float64(5), int64(1)\n",
      "memory usage: 3.4 KB\n"
     ]
    }
   ],
   "source": [
    "xf.info()"
   ]
  },
  {
   "cell_type": "code",
   "execution_count": 25,
   "metadata": {},
   "outputs": [
    {
     "data": {
      "text/plain": [
       "np.int64(889)"
      ]
     },
     "execution_count": 25,
     "metadata": {},
     "output_type": "execute_result"
    }
   ],
   "source": [
    "pf[\"Embarked\"].value_counts().sum()"
   ]
  },
  {
   "cell_type": "markdown",
   "metadata": {},
   "source": [
    "<div class=\"alert alert-info\">\n",
    "<h3> Your turn</h3>\n",
    "Using the Titanic data set, tabulate the number of passengers by the port in which they boarded the ship\n",
    "(variable <tt>Embarked</tt>). How many observations have missing values for this variable?\n",
    "</div>"
   ]
  },
  {
   "cell_type": "code",
   "execution_count": 23,
   "metadata": {},
   "outputs": [
    {
     "name": "stdout",
     "output_type": "stream",
     "text": [
      "<class 'pandas.core.frame.DataFrame'>\n",
      "RangeIndex: 891 entries, 0 to 890\n",
      "Data columns (total 10 columns):\n",
      " #   Column       Non-Null Count  Dtype  \n",
      "---  ------       --------------  -----  \n",
      " 0   PassengerId  891 non-null    int64  \n",
      " 1   Survived     891 non-null    int64  \n",
      " 2   Pclass       891 non-null    int64  \n",
      " 3   Name         891 non-null    object \n",
      " 4   Sex          891 non-null    object \n",
      " 5   Age          714 non-null    float64\n",
      " 6   Ticket       891 non-null    object \n",
      " 7   Fare         891 non-null    float64\n",
      " 8   Cabin        204 non-null    object \n",
      " 9   Embarked     889 non-null    object \n",
      "dtypes: float64(2), int64(3), object(5)\n",
      "memory usage: 69.7+ KB\n"
     ]
    }
   ],
   "source": [
    "pf.info()"
   ]
  },
  {
   "cell_type": "markdown",
   "metadata": {},
   "source": [
    "***\n",
    "## Indexing\n",
    "\n",
    "Pandas supports two types of indexing:\n",
    "\n",
    "1.  Indexing by position (same as Python containers and NumPy arrays)\n",
    "2.  Indexing by label, i.e., by the values assigned to the row or column *index*.\n",
    "    \n",
    "Pandas indexing is performed either by using brackets `[]`, or by using\n",
    "`.loc[]` for label indexing, or `.iloc[]` for positional indexing.\n",
    "\n",
    "Indexing via `[]` can be somewhat confusing:\n",
    "\n",
    "-   specifying `df['name']` returns the column `name` as a `Series` object.\n",
    "-   specifying a range such as `df[5:10]` returns the *rows*\n",
    "    associated with the *positions* 5,...,9.\n",
    "\n",
    "    **Recommendation:** Don't use this, there are less confusing ways to select rows."
   ]
  },
  {
   "attachments": {},
   "cell_type": "markdown",
   "metadata": {},
   "source": [
    "*Example: Selecting a single column*\n",
    "\n",
    "-   Select column `'Name'` from Titanic data set"
   ]
  },
  {
   "cell_type": "markdown",
   "metadata": {},
   "source": [
    "*Example: Selecting multiple columns*\n",
    "\n",
    "-   Select columns `'Name'` and `'Sex'` from Titanic data set\n",
    "-   Need to specify multiple columns as `list`"
   ]
  },
  {
   "cell_type": "markdown",
   "metadata": {},
   "source": [
    "***\n",
    "### Creating and manipulating indices\n",
    "\n",
    "\n",
    "Three main methods to create/manipulate indices:\n",
    "\n",
    "1.   Create a new `Series` or `DataFrame` object with a custom index\n",
    "    using the `index` argument.\n",
    "2.   [`set_index(keys=['column1', ...])`](https://pandas.pydata.org/docs/reference/api/pandas.DataFrame.set_index.html)\n",
    "    uses the values of `column1`\n",
    "    and optionally additional columns as indices, discarding the current index.\n",
    "3.   [`reset_index()`](https://pandas.pydata.org/docs/reference/api/pandas.DataFrame.reset_index.html) \n",
    "    resets the index to its default value, a sequence\n",
    "    of increasing integers starting at 0."
   ]
  },
  {
   "cell_type": "markdown",
   "metadata": {},
   "source": [
    "#### Creating custom indices\n",
    "\n",
    "*Example: Create `Series` with custom index*"
   ]
  },
  {
   "cell_type": "markdown",
   "metadata": {},
   "source": [
    "#### Manipulating indices\n",
    "\n",
    "\n",
    "-   By default, this creates a *new* `Series` or `DataFrame`, unless `inplace=True` is specified."
   ]
  },
  {
   "cell_type": "markdown",
   "metadata": {},
   "source": [
    "*Example: Set DataFrame index from column*\n",
    "\n",
    "-   Use the `set_index()` method\n",
    "-   Optionally specify `append=True` to add as *additional* index levels"
   ]
  },
  {
   "cell_type": "code",
   "execution_count": 4,
   "metadata": {},
   "outputs": [],
   "source": [
    "# Create demo DataFrame\n",
    "import pandas as pd\n",
    "\n",
    "df = pd.DataFrame({'A': [10, 20, 30], 'B': ['a', 'b', 'c']})"
   ]
  },
  {
   "cell_type": "markdown",
   "metadata": {},
   "source": [
    "\n",
    "*Example: Reset DataFrame index*\n",
    "\n",
    "-   Use the `reset_index()` method\n",
    "-   Optionally specify `drop=True`, otherwise the old index is added as a column to the DataFrame"
   ]
  },
  {
   "cell_type": "markdown",
   "metadata": {},
   "source": [
    "<div class=\"alert alert-info\">\n",
    "<h3> Your turn</h3>\n",
    "Read in the following data files from the <TT>data/FRED</TT> folder and manipulate the dataframe index:\n",
    "<ol>\n",
    "    <li>Read in the file <TT>FRED_annual.csv</TT> and set the column <TT>Year</TT> as the index.</li>\n",
    "    <li>Read in the file <TT>FRED_monthly.csv</TT> and set the columns <TT>Year</TT> and <TT>Month</TT> as the index</li>\n",
    "</ol>\n",
    "Perform the tasks using <TT>inplace=False</TT> and <TT>inplace=True</TT>. What's the difference?\n",
    "\n",
    "Restore the original (default) index after you are done.\n",
    "</div>"
   ]
  },
  {
   "cell_type": "markdown",
   "metadata": {},
   "source": [
    "***\n",
    "### Selecting elements\n",
    "\n",
    "Recommended rules for indexing:\n",
    "\n",
    "1.  Use `df['name']` only to select *columns* and nothing else\n",
    "2.  Use [`.loc[]`](https://pandas.pydata.org/docs/reference/api/pandas.DataFrame.loc.html) to select by label\n",
    "3.  Use [`.iloc[]`](https://pandas.pydata.org/docs/reference/api/pandas.DataFrame.iloc.html) to select by position"
   ]
  },
  {
   "cell_type": "markdown",
   "metadata": {},
   "source": [
    "*Demo data set used for this section:*"
   ]
  },
  {
   "cell_type": "code",
   "execution_count": 5,
   "metadata": {
    "collapsed": false,
    "pycharm": {
     "name": "#%%\n"
    }
   },
   "outputs": [],
   "source": [
    "# Create demo data with 3 columns and 5 rows\n",
    "\n",
    "# Column labels\n",
    "columns = ['X', 'Y', 'Z']\n",
    "# Row labels\n",
    "rows = ['a', 'b', 'c', 'd', 'e']\n",
    "\n",
    "values = np.arange(len(rows))\n",
    "\n",
    "# Create data dictionary using a list comprehension\n",
    "data = {col: [f'{col}{val}' for val in values] for col in columns}\n",
    "\n",
    "# Create DataFrame from dictionary\n",
    "df = pd.DataFrame(data, index=rows)"
   ]
  },
  {
   "cell_type": "markdown",
   "metadata": {},
   "source": [
    "**Selection by label**\n",
    "\n",
    "-   Use `.loc[]` to select rows and/or columns *by label*\n",
    "-   Can use *slicing* where last element is *included*"
   ]
  },
  {
   "cell_type": "markdown",
   "metadata": {},
   "source": [
    "**Selection by position**\n",
    "\n",
    "-   Use `.iloc[]` to select rows and/or columns *by position*"
   ]
  },
  {
   "cell_type": "markdown",
   "metadata": {},
   "source": [
    "**Boolean indexing**\n",
    "\n",
    "-   Select elements based on whether some condition is true\n",
    "-   Works with `[]`, with `.loc[]`, and with `.iloc[]` (for some reason)"
   ]
  },
  {
   "cell_type": "markdown",
   "metadata": {},
   "source": [
    "*Example: Boolean indexing with Titanic data*\n",
    "\n",
    "- Select all rows of passengers who embarked in Southampton (`'Embarked'` equals `'S'`)"
   ]
  },
  {
   "cell_type": "markdown",
   "metadata": {},
   "source": [
    "*Example: Multiple conditions with logical and/or*\n",
    "\n",
    "- Select all rows of *male* passengers (`'Sex'` equals `'male'`) who embarked in Southampton (`'Embarked'` equals `'S'`)"
   ]
  },
  {
   "cell_type": "markdown",
   "metadata": {},
   "source": [
    "*Example: Using `isin()`*\n",
    "\n",
    "- Select all rows of passengers who embarked either in Southampton or Queenstown (`'Embarked'` equals `'S'` of `'Q'`)"
   ]
  },
  {
   "cell_type": "markdown",
   "metadata": {},
   "source": [
    "*Example: Using `query()`*\n",
    "\n",
    "- Select all rows of passengers who embarked in Southampton (`'Embarked'` equals `'S'`) and are older than 70"
   ]
  },
  {
   "cell_type": "markdown",
   "metadata": {},
   "source": [
    "<div class=\"alert alert-info\">\n",
    "<h3> Your turn</h3>\n",
    "Load the Titanic passenger data set <TT>data/titanic.csv</TT> and select the following subsets of data:\n",
    "<ol>\n",
    "    <li>Select all passengers with passenger IDs from 10 to 20</li>\n",
    "    <li>Select the 10th to 20th (inclusive) row of the dataframe</li>\n",
    "    <li>Using <TT>query()</TT>, select the sub-sample of female passengers aged 30 to 40. Display only the columns <TT>Name</TT>, <TT>Age</TT>, and <TT>Sex</TT> (in that order)</li>\n",
    "    <li>Repeat the last exercise without using <TT>query()</TT></li>\n",
    "    <li>Select all men who embarked in Queenstown or Cherbourg</li>\n",
    "</ol>\n",
    "</div>"
   ]
  },
  {
   "cell_type": "markdown",
   "metadata": {},
   "source": [
    "***\n",
    "## Working with time series data\n",
    "\n",
    "-   Pandas indices can be date or datetime data types\n",
    "-   Use [`date_range()`](https://pandas.pydata.org/docs/reference/api/pandas.date_range.html) to create a range of dates\n",
    "-   Use [`to_datetime()`](https://pandas.pydata.org/docs/reference/api/pandas.to_datetime.html) to convert existing data to datetime format"
   ]
  },
  {
   "cell_type": "markdown",
   "metadata": {},
   "source": [
    "*Example: Creating a date index*\n",
    "\n",
    "-   Create a demo data set of daily observations for the first 3 months of 2024"
   ]
  },
  {
   "cell_type": "code",
   "execution_count": null,
   "metadata": {},
   "outputs": [],
   "source": [
    "# Start and end dates used for demo data set\n",
    "start = '2024-01-01'\n",
    "end = '2024-03-31'"
   ]
  },
  {
   "cell_type": "markdown",
   "metadata": {},
   "source": [
    "*Example: Select particular date*\n",
    "\n",
    "-   Select observation from January 1, 2024"
   ]
  },
  {
   "cell_type": "markdown",
   "metadata": {},
   "source": [
    "*Example: Select date range*\n",
    "\n",
    "- Select first 5 days in January 2024"
   ]
  },
  {
   "cell_type": "markdown",
   "metadata": {},
   "source": [
    "*Example: Use a partial index*\n",
    "\n",
    "- Select all of January 2024"
   ]
  },
  {
   "cell_type": "markdown",
   "metadata": {},
   "source": [
    "### Lags, differences, and other useful transformations\n",
    "\n",
    "Methods to shift/difference observations along time dimension:\n",
    "\n",
    "- [`shift()`](https://pandas.pydata.org/pandas-docs/stable/reference/api/pandas.DataFrame.shift.html): creates leads/lags\n",
    "- [`diff()`](https://pandas.pydata.org/docs/reference/api/pandas.DataFrame.diff.html): computes absolute differences over given period\n",
    "- [`pct_change()`](https://pandas.pydata.org/pandas-docs/stable/reference/api/pandas.DataFrame.pct_change.html): computes relative differences over given period"
   ]
  },
  {
   "cell_type": "markdown",
   "metadata": {},
   "source": [
    "<div class=\"alert alert-info\">\n",
    "<h3> Your turn</h3>\n",
    "Use the data from the <TT>data/FRED</TT> folder to perform the following task:\n",
    "<ol>\n",
    "    <li>Read in the file <TT>FRED_annual.csv</TT> and set the column <TT>Year</TT> as the index.</li>\n",
    "    <li>Compute annual inflation as the percentage change of the consumer price index (column <tt>CPI</tt>).</li>\n",
    "</ol>\n",
    "</div>"
   ]
  }
 ],
 "metadata": {
  "kernelspec": {
   "display_name": "TECH2",
   "language": "python",
   "name": "python3"
  },
  "language_info": {
   "codemirror_mode": {
    "name": "ipython",
    "version": 3
   },
   "file_extension": ".py",
   "mimetype": "text/x-python",
   "name": "python",
   "nbconvert_exporter": "python",
   "pygments_lexer": "ipython3",
   "version": "3.13.5"
  }
 },
 "nbformat": 4,
 "nbformat_minor": 0
}
