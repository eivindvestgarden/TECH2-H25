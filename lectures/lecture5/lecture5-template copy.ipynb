{
 "cells": [
  {
   "cell_type": "markdown",
   "metadata": {},
   "source": [
    "***\n",
    "# Concatenating and merging data\n",
    "\n",
    "Combine several `Series` or `DataFrame` objects:\n",
    "\n",
    "1. [`pd.concat()`](https://pandas.pydata.org/docs/reference/api/pandas.concat.html): combine multiple Series/DataFrames by appending observations (rows) or columns.\n",
    "2. [`pd.merge()`](https://pandas.pydata.org/docs/reference/api/pandas.merge.html): match observations from one Series/DataFrame with observations from another Series/DataFrame and combine these into a _merged_ DataFrame."
   ]
  },
  {
   "cell_type": "markdown",
   "metadata": {},
   "source": [
    "***\n",
    "## Concatenation"
   ]
  },
  {
   "cell_type": "markdown",
   "metadata": {},
   "source": [
    "### Concatenating Series"
   ]
  },
  {
   "cell_type": "code",
   "execution_count": 10,
   "metadata": {},
   "outputs": [],
   "source": [
    "# Create demo series\n",
    "import pandas as pd \n",
    "\n",
    "a = pd.Series(['A1', 'A2', 'A3'])\n",
    "b = pd.Series([f'B{i}' for i in range(5)])"
   ]
  },
  {
   "cell_type": "code",
   "execution_count": 7,
   "metadata": {},
   "outputs": [
    {
     "data": {
      "application/vnd.microsoft.datawrangler.viewer.v0+json": {
       "columns": [
        {
         "name": "index",
         "rawType": "int64",
         "type": "integer"
        },
        {
         "name": "0",
         "rawType": "object",
         "type": "unknown"
        },
        {
         "name": "1",
         "rawType": "object",
         "type": "string"
        }
       ],
       "ref": "edfd3e7c-3e0b-4f9e-a707-2be7de2a1b35",
       "rows": [
        [
         "0",
         "A1",
         "B0"
        ],
        [
         "1",
         "A2",
         "B1"
        ],
        [
         "2",
         "A3",
         "B2"
        ],
        [
         "3",
         null,
         "B3"
        ],
        [
         "4",
         null,
         "B4"
        ]
       ],
       "shape": {
        "columns": 2,
        "rows": 5
       }
      },
      "text/html": [
       "<div>\n",
       "<style scoped>\n",
       "    .dataframe tbody tr th:only-of-type {\n",
       "        vertical-align: middle;\n",
       "    }\n",
       "\n",
       "    .dataframe tbody tr th {\n",
       "        vertical-align: top;\n",
       "    }\n",
       "\n",
       "    .dataframe thead th {\n",
       "        text-align: right;\n",
       "    }\n",
       "</style>\n",
       "<table border=\"1\" class=\"dataframe\">\n",
       "  <thead>\n",
       "    <tr style=\"text-align: right;\">\n",
       "      <th></th>\n",
       "      <th>0</th>\n",
       "      <th>1</th>\n",
       "    </tr>\n",
       "  </thead>\n",
       "  <tbody>\n",
       "    <tr>\n",
       "      <th>0</th>\n",
       "      <td>A1</td>\n",
       "      <td>B0</td>\n",
       "    </tr>\n",
       "    <tr>\n",
       "      <th>1</th>\n",
       "      <td>A2</td>\n",
       "      <td>B1</td>\n",
       "    </tr>\n",
       "    <tr>\n",
       "      <th>2</th>\n",
       "      <td>A3</td>\n",
       "      <td>B2</td>\n",
       "    </tr>\n",
       "    <tr>\n",
       "      <th>3</th>\n",
       "      <td>NaN</td>\n",
       "      <td>B3</td>\n",
       "    </tr>\n",
       "    <tr>\n",
       "      <th>4</th>\n",
       "      <td>NaN</td>\n",
       "      <td>B4</td>\n",
       "    </tr>\n",
       "  </tbody>\n",
       "</table>\n",
       "</div>"
      ],
      "text/plain": [
       "     0   1\n",
       "0   A1  B0\n",
       "1   A2  B1\n",
       "2   A3  B2\n",
       "3  NaN  B3\n",
       "4  NaN  B4"
      ]
     },
     "execution_count": 7,
     "metadata": {},
     "output_type": "execute_result"
    }
   ],
   "source": [
    "s = pd.concat((a,b), ignore_index=True, axis = 1)\n",
    "s"
   ]
  },
  {
   "cell_type": "code",
   "execution_count": 3,
   "metadata": {},
   "outputs": [
    {
     "data": {
      "application/vnd.microsoft.datawrangler.viewer.v0+json": {
       "columns": [
        {
         "name": "index",
         "rawType": "int64",
         "type": "integer"
        },
        {
         "name": "0",
         "rawType": "object",
         "type": "string"
        }
       ],
       "ref": "2016318a-dd82-41aa-80c3-d151bfad0fa5",
       "rows": [
        [
         "0",
         "A1"
        ],
        [
         "0",
         "B0"
        ]
       ],
       "shape": {
        "columns": 1,
        "rows": 2
       }
      },
      "text/plain": [
       "0    A1\n",
       "0    B0\n",
       "dtype: object"
      ]
     },
     "execution_count": 3,
     "metadata": {},
     "output_type": "execute_result"
    }
   ],
   "source": [
    "s.loc[0]"
   ]
  },
  {
   "cell_type": "markdown",
   "metadata": {},
   "source": [
    "*Example: Concatenating two Series along the row axis*\n",
    "\n",
    "-   Use [`pd.concat()`](https://pandas.pydata.org/docs/reference/api/pandas.concat.html)\n",
    "-   Optionally specify `axis=0` (the default)\n",
    "-   Might need to reset index of result object\n",
    "-   Index can be reset automatically by specifying `ignore_index=True`"
   ]
  },
  {
   "cell_type": "markdown",
   "metadata": {},
   "source": [
    "*Example: Concatenating along the column axis*\n",
    "\n",
    "-   Need to specify `axis=1` argument\n",
    "-   Use `keys` to specify column names"
   ]
  },
  {
   "cell_type": "markdown",
   "metadata": {},
   "source": [
    "<div class=\"alert alert-info\">\n",
    "<h3> Your turn</h3>\n",
    "<ol>\n",
    "    <li>Create a new <TT>Series</TT> with observations <TT>['C1', 'C2']</TT>.</li>\n",
    "    <li>Using the previously created <TT>Series</TT> <TT>a</TT> and <TT>b</TT>, concatenate all three objects along the row axis and create a new (unique) index.</li>\n",
    "    <li>Repeat the previous step, but now concatenate along the column axis. Assign the column names <TT>'Column1'</TT>, <TT>'Column2'</TT>, and <TT>'Column3'</TT>.</li>\n",
    "</ol>\n",
    "</div>"
   ]
  },
  {
   "cell_type": "code",
   "execution_count": 15,
   "metadata": {},
   "outputs": [
    {
     "data": {
      "application/vnd.microsoft.datawrangler.viewer.v0+json": {
       "columns": [
        {
         "name": "index",
         "rawType": "int64",
         "type": "integer"
        },
        {
         "name": "0",
         "rawType": "object",
         "type": "unknown"
        },
        {
         "name": "1",
         "rawType": "object",
         "type": "string"
        },
        {
         "name": "2",
         "rawType": "object",
         "type": "unknown"
        }
       ],
       "ref": "7d87233d-f4a1-4e28-ac19-50aaa37792f2",
       "rows": [
        [
         "0",
         "A1",
         "B0",
         "C1"
        ],
        [
         "1",
         "A2",
         "B1",
         "C2"
        ],
        [
         "2",
         "A3",
         "B2",
         null
        ],
        [
         "3",
         null,
         "B3",
         null
        ],
        [
         "4",
         null,
         "B4",
         null
        ]
       ],
       "shape": {
        "columns": 3,
        "rows": 5
       }
      },
      "text/html": [
       "<div>\n",
       "<style scoped>\n",
       "    .dataframe tbody tr th:only-of-type {\n",
       "        vertical-align: middle;\n",
       "    }\n",
       "\n",
       "    .dataframe tbody tr th {\n",
       "        vertical-align: top;\n",
       "    }\n",
       "\n",
       "    .dataframe thead th {\n",
       "        text-align: right;\n",
       "    }\n",
       "</style>\n",
       "<table border=\"1\" class=\"dataframe\">\n",
       "  <thead>\n",
       "    <tr style=\"text-align: right;\">\n",
       "      <th></th>\n",
       "      <th>0</th>\n",
       "      <th>1</th>\n",
       "      <th>2</th>\n",
       "    </tr>\n",
       "  </thead>\n",
       "  <tbody>\n",
       "    <tr>\n",
       "      <th>0</th>\n",
       "      <td>A1</td>\n",
       "      <td>B0</td>\n",
       "      <td>C1</td>\n",
       "    </tr>\n",
       "    <tr>\n",
       "      <th>1</th>\n",
       "      <td>A2</td>\n",
       "      <td>B1</td>\n",
       "      <td>C2</td>\n",
       "    </tr>\n",
       "    <tr>\n",
       "      <th>2</th>\n",
       "      <td>A3</td>\n",
       "      <td>B2</td>\n",
       "      <td>NaN</td>\n",
       "    </tr>\n",
       "    <tr>\n",
       "      <th>3</th>\n",
       "      <td>NaN</td>\n",
       "      <td>B3</td>\n",
       "      <td>NaN</td>\n",
       "    </tr>\n",
       "    <tr>\n",
       "      <th>4</th>\n",
       "      <td>NaN</td>\n",
       "      <td>B4</td>\n",
       "      <td>NaN</td>\n",
       "    </tr>\n",
       "  </tbody>\n",
       "</table>\n",
       "</div>"
      ],
      "text/plain": [
       "     0   1    2\n",
       "0   A1  B0   C1\n",
       "1   A2  B1   C2\n",
       "2   A3  B2  NaN\n",
       "3  NaN  B3  NaN\n",
       "4  NaN  B4  NaN"
      ]
     },
     "execution_count": 15,
     "metadata": {},
     "output_type": "execute_result"
    }
   ],
   "source": [
    "c = pd.Series([\"C1\", \"C2\"])\n",
    "\n",
    "d = pd.concat((a,b,c), ignore_index=True, axis = 1, keys = ['Column1', 'Column2', 'Column3'])\n",
    "\n",
    "d\n"
   ]
  },
  {
   "cell_type": "markdown",
   "metadata": {},
   "source": [
    "### Concatenating DataFrames"
   ]
  },
  {
   "cell_type": "code",
   "execution_count": 16,
   "metadata": {},
   "outputs": [],
   "source": [
    "# Create demo DataFrames\n",
    "\n",
    "import pandas as pd\n",
    "import numpy as np\n",
    "\n",
    "# Create 2 x 2 DataFrame of string data\n",
    "df_a = pd.DataFrame(np.array([f'A{i}' for i in range(4)]).reshape((2, 2)))\n",
    "\n",
    "# Create 2 x 3 DataFrame of string data\n",
    "df_b = pd.DataFrame(np.array([f'B{i}' for i in range(6)]).reshape((2, 3)))"
   ]
  },
  {
   "cell_type": "code",
   "execution_count": 17,
   "metadata": {},
   "outputs": [
    {
     "data": {
      "application/vnd.microsoft.datawrangler.viewer.v0+json": {
       "columns": [
        {
         "name": "index",
         "rawType": "int64",
         "type": "integer"
        },
        {
         "name": "('A', 0)",
         "rawType": "object",
         "type": "string"
        },
        {
         "name": "('A', 1)",
         "rawType": "object",
         "type": "string"
        },
        {
         "name": "('B', 0)",
         "rawType": "object",
         "type": "string"
        },
        {
         "name": "('B', 1)",
         "rawType": "object",
         "type": "string"
        },
        {
         "name": "('B', 2)",
         "rawType": "object",
         "type": "string"
        }
       ],
       "ref": "e62d495c-ef9e-4449-b17d-7ada0f10f7ee",
       "rows": [
        [
         "0",
         "A0",
         "A1",
         "B0",
         "B1",
         "B2"
        ],
        [
         "1",
         "A2",
         "A3",
         "B3",
         "B4",
         "B5"
        ]
       ],
       "shape": {
        "columns": 5,
        "rows": 2
       }
      },
      "text/html": [
       "<div>\n",
       "<style scoped>\n",
       "    .dataframe tbody tr th:only-of-type {\n",
       "        vertical-align: middle;\n",
       "    }\n",
       "\n",
       "    .dataframe tbody tr th {\n",
       "        vertical-align: top;\n",
       "    }\n",
       "\n",
       "    .dataframe thead tr th {\n",
       "        text-align: left;\n",
       "    }\n",
       "</style>\n",
       "<table border=\"1\" class=\"dataframe\">\n",
       "  <thead>\n",
       "    <tr>\n",
       "      <th></th>\n",
       "      <th colspan=\"2\" halign=\"left\">A</th>\n",
       "      <th colspan=\"3\" halign=\"left\">B</th>\n",
       "    </tr>\n",
       "    <tr>\n",
       "      <th></th>\n",
       "      <th>0</th>\n",
       "      <th>1</th>\n",
       "      <th>0</th>\n",
       "      <th>1</th>\n",
       "      <th>2</th>\n",
       "    </tr>\n",
       "  </thead>\n",
       "  <tbody>\n",
       "    <tr>\n",
       "      <th>0</th>\n",
       "      <td>A0</td>\n",
       "      <td>A1</td>\n",
       "      <td>B0</td>\n",
       "      <td>B1</td>\n",
       "      <td>B2</td>\n",
       "    </tr>\n",
       "    <tr>\n",
       "      <th>1</th>\n",
       "      <td>A2</td>\n",
       "      <td>A3</td>\n",
       "      <td>B3</td>\n",
       "      <td>B4</td>\n",
       "      <td>B5</td>\n",
       "    </tr>\n",
       "  </tbody>\n",
       "</table>\n",
       "</div>"
      ],
      "text/plain": [
       "    A       B        \n",
       "    0   1   0   1   2\n",
       "0  A0  A1  B0  B1  B2\n",
       "1  A2  A3  B3  B4  B5"
      ]
     },
     "execution_count": 17,
     "metadata": {},
     "output_type": "execute_result"
    }
   ],
   "source": [
    "pd.concat((df_a, df_b), axis=1, keys = ['A', 'B'])"
   ]
  },
  {
   "cell_type": "markdown",
   "metadata": {},
   "source": [
    "#### Concatenating along the column axis"
   ]
  },
  {
   "cell_type": "code",
   "execution_count": 20,
   "metadata": {},
   "outputs": [
    {
     "data": {
      "application/vnd.microsoft.datawrangler.viewer.v0+json": {
       "columns": [
        {
         "name": "index",
         "rawType": "int64",
         "type": "integer"
        },
        {
         "name": "0",
         "rawType": "object",
         "type": "string"
        },
        {
         "name": "1",
         "rawType": "object",
         "type": "string"
        },
        {
         "name": "2",
         "rawType": "object",
         "type": "unknown"
        }
       ],
       "ref": "5d6c27ab-bfd9-4c71-a79c-0d09912178c9",
       "rows": [
        [
         "0",
         "A0",
         "A1",
         null
        ],
        [
         "1",
         "A2",
         "A3",
         null
        ],
        [
         "2",
         "B0",
         "B1",
         "B2"
        ],
        [
         "3",
         "B3",
         "B4",
         "B5"
        ]
       ],
       "shape": {
        "columns": 3,
        "rows": 4
       }
      },
      "text/html": [
       "<div>\n",
       "<style scoped>\n",
       "    .dataframe tbody tr th:only-of-type {\n",
       "        vertical-align: middle;\n",
       "    }\n",
       "\n",
       "    .dataframe tbody tr th {\n",
       "        vertical-align: top;\n",
       "    }\n",
       "\n",
       "    .dataframe thead th {\n",
       "        text-align: right;\n",
       "    }\n",
       "</style>\n",
       "<table border=\"1\" class=\"dataframe\">\n",
       "  <thead>\n",
       "    <tr style=\"text-align: right;\">\n",
       "      <th></th>\n",
       "      <th>0</th>\n",
       "      <th>1</th>\n",
       "      <th>2</th>\n",
       "    </tr>\n",
       "  </thead>\n",
       "  <tbody>\n",
       "    <tr>\n",
       "      <th>0</th>\n",
       "      <td>A0</td>\n",
       "      <td>A1</td>\n",
       "      <td>NaN</td>\n",
       "    </tr>\n",
       "    <tr>\n",
       "      <th>1</th>\n",
       "      <td>A2</td>\n",
       "      <td>A3</td>\n",
       "      <td>NaN</td>\n",
       "    </tr>\n",
       "    <tr>\n",
       "      <th>2</th>\n",
       "      <td>B0</td>\n",
       "      <td>B1</td>\n",
       "      <td>B2</td>\n",
       "    </tr>\n",
       "    <tr>\n",
       "      <th>3</th>\n",
       "      <td>B3</td>\n",
       "      <td>B4</td>\n",
       "      <td>B5</td>\n",
       "    </tr>\n",
       "  </tbody>\n",
       "</table>\n",
       "</div>"
      ],
      "text/plain": [
       "    0   1    2\n",
       "0  A0  A1  NaN\n",
       "1  A2  A3  NaN\n",
       "2  B0  B1   B2\n",
       "3  B3  B4   B5"
      ]
     },
     "execution_count": 20,
     "metadata": {},
     "output_type": "execute_result"
    }
   ],
   "source": [
    "pd.concat((df_a, df_b), axis=0, ignore_index=True)"
   ]
  },
  {
   "cell_type": "markdown",
   "metadata": {},
   "source": [
    "*Example: Concatenating two DataFrames along the column axis*"
   ]
  },
  {
   "cell_type": "markdown",
   "metadata": {},
   "source": [
    "-   Might need to reset non-unique column index (or specify `ignore_index=True`)\n",
    "-   Use `keys` argument to `concat()` to add outer level to column index"
   ]
  },
  {
   "cell_type": "markdown",
   "metadata": {},
   "source": [
    "#### Concatenating along the row axis"
   ]
  },
  {
   "cell_type": "markdown",
   "metadata": {},
   "source": [
    "*Example: Concatenating rows with identical columns*"
   ]
  },
  {
   "cell_type": "markdown",
   "metadata": {},
   "source": [
    "*Example: Concatenating rows with different columns*"
   ]
  },
  {
   "cell_type": "markdown",
   "metadata": {},
   "source": [
    "<div class=\"alert alert-info\">\n",
    "<h3> Your turn</h3>\n",
    "Use the data files located in the folder <TT>../../data/FRED</TT> to perform the following tasks:\n",
    "<ol>\n",
    "    <li>Load the data in <TT>FRED_monthly_1950.csv</TT> and <TT>FRED_monthly_1960.csv</TT> into two different DataFrames.\n",
    "        The files contain monthly macroeconomic time series for the 1950s and 1960s, respectively.\n",
    "        <p>\n",
    "        <i>Hint:</i> Use <TT>pd.read_csv(..., parse_dates=['DATE'])</TT> to automatically parse strings stored in the <TT>DATE</TT> column as dates.\n",
    "        </p>\n",
    "        </li>\n",
    "    <li>Concatenate these DataFrames along the row dimension to get a total of 240 observations.</li>\n",
    "    <li>Set the column <TT>DATE</TT> as index for the newly created DataFrame.</li>\n",
    "</ol>\n",
    "</div>"
   ]
  },
  {
   "cell_type": "code",
   "execution_count": 26,
   "metadata": {},
   "outputs": [
    {
     "data": {
      "application/vnd.microsoft.datawrangler.viewer.v0+json": {
       "columns": [
        {
         "name": "DATE",
         "rawType": "datetime64[ns]",
         "type": "datetime"
        },
        {
         "name": "CPI",
         "rawType": "float64",
         "type": "float"
        },
        {
         "name": "UNRATE",
         "rawType": "float64",
         "type": "float"
        },
        {
         "name": "FEDFUNDS",
         "rawType": "float64",
         "type": "float"
        },
        {
         "name": "REALRATE",
         "rawType": "float64",
         "type": "float"
        },
        {
         "name": "LFPART",
         "rawType": "float64",
         "type": "float"
        }
       ],
       "ref": "536e39ae-6bc8-4da9-8033-f2e61e43eba6",
       "rows": [
        [
         "1950-01-01 00:00:00",
         "23.5",
         "6.5",
         null,
         null,
         "58.9"
        ],
        [
         "1950-02-01 00:00:00",
         "23.6",
         "6.4",
         null,
         null,
         "58.9"
        ],
        [
         "1950-03-01 00:00:00",
         "23.6",
         "6.3",
         null,
         null,
         "58.8"
        ],
        [
         "1950-04-01 00:00:00",
         "23.6",
         "5.8",
         null,
         null,
         "59.2"
        ],
        [
         "1950-05-01 00:00:00",
         "23.8",
         "5.5",
         null,
         null,
         "59.1"
        ],
        [
         "1950-06-01 00:00:00",
         "23.9",
         "5.4",
         null,
         null,
         "59.4"
        ],
        [
         "1950-07-01 00:00:00",
         "24.1",
         "5.0",
         null,
         null,
         "59.1"
        ],
        [
         "1950-08-01 00:00:00",
         "24.2",
         "4.5",
         null,
         null,
         "59.5"
        ],
        [
         "1950-09-01 00:00:00",
         "24.3",
         "4.4",
         null,
         null,
         "59.2"
        ],
        [
         "1950-10-01 00:00:00",
         "24.5",
         "4.2",
         null,
         null,
         "59.4"
        ],
        [
         "1950-11-01 00:00:00",
         "24.6",
         "4.2",
         null,
         null,
         "59.3"
        ],
        [
         "1950-12-01 00:00:00",
         "25.0",
         "4.3",
         null,
         null,
         "59.2"
        ],
        [
         "1951-01-01 00:00:00",
         "25.4",
         "3.7",
         null,
         null,
         "59.1"
        ],
        [
         "1951-02-01 00:00:00",
         "25.8",
         "3.4",
         null,
         null,
         "59.1"
        ],
        [
         "1951-03-01 00:00:00",
         "25.9",
         "3.4",
         null,
         null,
         "59.8"
        ],
        [
         "1951-04-01 00:00:00",
         "25.9",
         "3.1",
         null,
         null,
         "59.1"
        ],
        [
         "1951-05-01 00:00:00",
         "26.0",
         "3.0",
         null,
         null,
         "59.4"
        ],
        [
         "1951-06-01 00:00:00",
         "25.9",
         "3.2",
         null,
         null,
         "59.0"
        ],
        [
         "1951-07-01 00:00:00",
         "25.9",
         "3.1",
         null,
         null,
         "59.4"
        ],
        [
         "1951-08-01 00:00:00",
         "25.9",
         "3.1",
         null,
         null,
         "59.2"
        ],
        [
         "1951-09-01 00:00:00",
         "26.0",
         "3.3",
         null,
         null,
         "59.1"
        ],
        [
         "1951-10-01 00:00:00",
         "26.2",
         "3.5",
         null,
         null,
         "59.4"
        ],
        [
         "1951-11-01 00:00:00",
         "26.3",
         "3.5",
         null,
         null,
         "59.2"
        ],
        [
         "1951-12-01 00:00:00",
         "26.5",
         "3.1",
         null,
         null,
         "59.6"
        ],
        [
         "1952-01-01 00:00:00",
         "26.4",
         "3.2",
         null,
         null,
         "59.5"
        ],
        [
         "1952-02-01 00:00:00",
         "26.4",
         "3.1",
         null,
         null,
         "59.5"
        ],
        [
         "1952-03-01 00:00:00",
         "26.4",
         "2.9",
         null,
         null,
         "58.9"
        ],
        [
         "1952-04-01 00:00:00",
         "26.5",
         "2.9",
         null,
         null,
         "58.8"
        ],
        [
         "1952-05-01 00:00:00",
         "26.5",
         "3.0",
         null,
         null,
         "59.1"
        ],
        [
         "1952-06-01 00:00:00",
         "26.5",
         "3.0",
         null,
         null,
         "59.1"
        ],
        [
         "1952-07-01 00:00:00",
         "26.7",
         "3.2",
         null,
         null,
         "58.9"
        ],
        [
         "1952-08-01 00:00:00",
         "26.7",
         "3.4",
         null,
         null,
         "58.7"
        ],
        [
         "1952-09-01 00:00:00",
         "26.6",
         "3.1",
         null,
         null,
         "59.2"
        ],
        [
         "1952-10-01 00:00:00",
         "26.7",
         "3.0",
         null,
         null,
         "58.7"
        ],
        [
         "1952-11-01 00:00:00",
         "26.7",
         "2.8",
         null,
         null,
         "59.1"
        ],
        [
         "1952-12-01 00:00:00",
         "26.7",
         "2.7",
         null,
         null,
         "59.2"
        ],
        [
         "1953-01-01 00:00:00",
         "26.6",
         "2.9",
         null,
         null,
         "59.5"
        ],
        [
         "1953-02-01 00:00:00",
         "26.6",
         "2.6",
         null,
         null,
         "59.5"
        ],
        [
         "1953-03-01 00:00:00",
         "26.6",
         "2.6",
         null,
         null,
         "59.6"
        ],
        [
         "1953-04-01 00:00:00",
         "26.7",
         "2.7",
         null,
         null,
         "59.1"
        ],
        [
         "1953-05-01 00:00:00",
         "26.7",
         "2.5",
         null,
         null,
         "58.6"
        ],
        [
         "1953-06-01 00:00:00",
         "26.8",
         "2.5",
         null,
         null,
         "58.9"
        ],
        [
         "1953-07-01 00:00:00",
         "26.8",
         "2.6",
         null,
         null,
         "58.9"
        ],
        [
         "1953-08-01 00:00:00",
         "26.8",
         "2.7",
         null,
         null,
         "58.6"
        ],
        [
         "1953-09-01 00:00:00",
         "26.9",
         "2.9",
         null,
         null,
         "58.5"
        ],
        [
         "1953-10-01 00:00:00",
         "27.0",
         "3.1",
         null,
         null,
         "58.5"
        ],
        [
         "1953-11-01 00:00:00",
         "26.8",
         "3.5",
         null,
         null,
         "58.6"
        ],
        [
         "1953-12-01 00:00:00",
         "26.9",
         "4.5",
         null,
         null,
         "58.3"
        ],
        [
         "1954-01-01 00:00:00",
         "26.9",
         "4.9",
         null,
         null,
         "58.6"
        ],
        [
         "1954-02-01 00:00:00",
         "27.0",
         "5.2",
         null,
         null,
         "59.3"
        ]
       ],
       "shape": {
        "columns": 5,
        "rows": 240
       }
      },
      "text/html": [
       "<div>\n",
       "<style scoped>\n",
       "    .dataframe tbody tr th:only-of-type {\n",
       "        vertical-align: middle;\n",
       "    }\n",
       "\n",
       "    .dataframe tbody tr th {\n",
       "        vertical-align: top;\n",
       "    }\n",
       "\n",
       "    .dataframe thead th {\n",
       "        text-align: right;\n",
       "    }\n",
       "</style>\n",
       "<table border=\"1\" class=\"dataframe\">\n",
       "  <thead>\n",
       "    <tr style=\"text-align: right;\">\n",
       "      <th></th>\n",
       "      <th>CPI</th>\n",
       "      <th>UNRATE</th>\n",
       "      <th>FEDFUNDS</th>\n",
       "      <th>REALRATE</th>\n",
       "      <th>LFPART</th>\n",
       "    </tr>\n",
       "    <tr>\n",
       "      <th>DATE</th>\n",
       "      <th></th>\n",
       "      <th></th>\n",
       "      <th></th>\n",
       "      <th></th>\n",
       "      <th></th>\n",
       "    </tr>\n",
       "  </thead>\n",
       "  <tbody>\n",
       "    <tr>\n",
       "      <th>1950-01-01</th>\n",
       "      <td>23.5</td>\n",
       "      <td>6.5</td>\n",
       "      <td>NaN</td>\n",
       "      <td>NaN</td>\n",
       "      <td>58.9</td>\n",
       "    </tr>\n",
       "    <tr>\n",
       "      <th>1950-02-01</th>\n",
       "      <td>23.6</td>\n",
       "      <td>6.4</td>\n",
       "      <td>NaN</td>\n",
       "      <td>NaN</td>\n",
       "      <td>58.9</td>\n",
       "    </tr>\n",
       "    <tr>\n",
       "      <th>1950-03-01</th>\n",
       "      <td>23.6</td>\n",
       "      <td>6.3</td>\n",
       "      <td>NaN</td>\n",
       "      <td>NaN</td>\n",
       "      <td>58.8</td>\n",
       "    </tr>\n",
       "    <tr>\n",
       "      <th>1950-04-01</th>\n",
       "      <td>23.6</td>\n",
       "      <td>5.8</td>\n",
       "      <td>NaN</td>\n",
       "      <td>NaN</td>\n",
       "      <td>59.2</td>\n",
       "    </tr>\n",
       "    <tr>\n",
       "      <th>1950-05-01</th>\n",
       "      <td>23.8</td>\n",
       "      <td>5.5</td>\n",
       "      <td>NaN</td>\n",
       "      <td>NaN</td>\n",
       "      <td>59.1</td>\n",
       "    </tr>\n",
       "    <tr>\n",
       "      <th>...</th>\n",
       "      <td>...</td>\n",
       "      <td>...</td>\n",
       "      <td>...</td>\n",
       "      <td>...</td>\n",
       "      <td>...</td>\n",
       "    </tr>\n",
       "    <tr>\n",
       "      <th>1969-08-01</th>\n",
       "      <td>36.9</td>\n",
       "      <td>3.5</td>\n",
       "      <td>9.2</td>\n",
       "      <td>NaN</td>\n",
       "      <td>60.3</td>\n",
       "    </tr>\n",
       "    <tr>\n",
       "      <th>1969-09-01</th>\n",
       "      <td>37.1</td>\n",
       "      <td>3.7</td>\n",
       "      <td>9.2</td>\n",
       "      <td>NaN</td>\n",
       "      <td>60.3</td>\n",
       "    </tr>\n",
       "    <tr>\n",
       "      <th>1969-10-01</th>\n",
       "      <td>37.3</td>\n",
       "      <td>3.7</td>\n",
       "      <td>9.0</td>\n",
       "      <td>NaN</td>\n",
       "      <td>60.4</td>\n",
       "    </tr>\n",
       "    <tr>\n",
       "      <th>1969-11-01</th>\n",
       "      <td>37.5</td>\n",
       "      <td>3.5</td>\n",
       "      <td>8.8</td>\n",
       "      <td>NaN</td>\n",
       "      <td>60.2</td>\n",
       "    </tr>\n",
       "    <tr>\n",
       "      <th>1969-12-01</th>\n",
       "      <td>37.7</td>\n",
       "      <td>3.5</td>\n",
       "      <td>9.0</td>\n",
       "      <td>NaN</td>\n",
       "      <td>60.2</td>\n",
       "    </tr>\n",
       "  </tbody>\n",
       "</table>\n",
       "<p>240 rows × 5 columns</p>\n",
       "</div>"
      ],
      "text/plain": [
       "             CPI  UNRATE  FEDFUNDS  REALRATE  LFPART\n",
       "DATE                                                \n",
       "1950-01-01  23.5     6.5       NaN       NaN    58.9\n",
       "1950-02-01  23.6     6.4       NaN       NaN    58.9\n",
       "1950-03-01  23.6     6.3       NaN       NaN    58.8\n",
       "1950-04-01  23.6     5.8       NaN       NaN    59.2\n",
       "1950-05-01  23.8     5.5       NaN       NaN    59.1\n",
       "...          ...     ...       ...       ...     ...\n",
       "1969-08-01  36.9     3.5       9.2       NaN    60.3\n",
       "1969-09-01  37.1     3.7       9.2       NaN    60.3\n",
       "1969-10-01  37.3     3.7       9.0       NaN    60.4\n",
       "1969-11-01  37.5     3.5       8.8       NaN    60.2\n",
       "1969-12-01  37.7     3.5       9.0       NaN    60.2\n",
       "\n",
       "[240 rows x 5 columns]"
      ]
     },
     "execution_count": 26,
     "metadata": {},
     "output_type": "execute_result"
    }
   ],
   "source": [
    "# Read in data used for mini-exercise\n",
    "\n",
    "# Relative path to data directory\n",
    "DATA_PATH = '../../data'\n",
    "\n",
    "# Read in FRED data for 1950s and 1960s\n",
    "df_1950 = pd.read_csv(f'{DATA_PATH}/FRED/FRED_monthly_1950.csv', parse_dates=['DATE'])\n",
    "df_1960 = pd.read_csv(f'{DATA_PATH}/FRED/FRED_monthly_1960.csv', parse_dates=['DATE'])\n",
    "\n",
    "df_total = pd.concat((df_1950, df_1960))\n",
    "df_total.set_index(\"DATE\", inplace=True)\n",
    "df_total"
   ]
  },
  {
   "cell_type": "markdown",
   "metadata": {},
   "source": [
    "***\n",
    "## Merging and joining data sets"
   ]
  },
  {
   "cell_type": "markdown",
   "metadata": {},
   "source": [
    "### Types of merges\n",
    "\n",
    "We can merge DataFrames `A` and `B` in various ways:\n",
    "\n",
    "1.  *one-to-one*: Unique keys in `A` and `B`\n",
    "2.  *many-to-one*: Unique keys in `A`, mapped to multiple keys in `B`\n",
    "3.  *many-to-many*: Multiple keys in both `A` mapping to multiple keys in `B` (avoid this)"
   ]
  },
  {
   "cell_type": "markdown",
   "metadata": {},
   "source": [
    "### Implementation in pandas\n",
    "\n",
    "1.  [`pd.merge()`](https://pandas.pydata.org/docs/reference/api/pandas.merge.html): function that takes as argument the *two* DataFrames to be merged,\n",
    "    e.g.,\n",
    "    \n",
    "    ```python\n",
    "    result = pd.merge(df_A, df_B)\n",
    "    ```\n",
    "2.  [`df.merge()`](https://pandas.pydata.org/docs/reference/api/pandas.DataFrame.merge.html): method of a specific `DataFrame` object, takes the other `DataFrame` as argument, e.g.,\n",
    "    \n",
    "    ```python\n",
    "    result = df_A.merge(df_B)\n",
    "    ```\n"
   ]
  },
  {
   "cell_type": "markdown",
   "metadata": {},
   "source": [
    "### Controlling the resulting data set\n",
    "\n",
    "Merge methods (controlled by `how` argument to `merge()`):\n",
    "\n",
    "1.  `how='inner'` (_inner join_): _intersection_ of keys that are present in _both_ data sets\n",
    "2.  `how='outer'` (_outer join_): _union_ of keys present in either of the data sets\n",
    "3.  `how='left'` (_left join_): all identifiers from the _left_ data set are in the result\n",
    "4.  `how='right'` (_right join_): all identifiers from the _right_ data set are in the result\n",
    "\n",
    "Illustration: Each circle represents the keys present in the left (`df1`) or right (`df2`) DataFrames. The merge method controls which subset of keys is retained in the merge result."
   ]
  },
  {
   "cell_type": "markdown",
   "metadata": {},
   "source": [
    "![Join types](join-methods.png)"
   ]
  },
  {
   "cell_type": "markdown",
   "metadata": {},
   "source": [
    "***\n",
    "### Merging with `merge()`"
   ]
  },
  {
   "cell_type": "markdown",
   "metadata": {},
   "source": [
    "#### One-to-one merges"
   ]
  },
  {
   "cell_type": "code",
   "execution_count": 27,
   "metadata": {},
   "outputs": [],
   "source": [
    "# Create first DataFrame with 2 rows\n",
    "df_a = pd.DataFrame({'key': [0, 1], 'value_a': ['A0', 'A1']})\n",
    "\n",
    "# Create second DataFrame with 2 rows\n",
    "df_b = pd.DataFrame({'key': [1, 2], 'value_b': ['B1', 'B2']})"
   ]
  },
  {
   "cell_type": "markdown",
   "metadata": {},
   "source": [
    "*Example: inner join*\n",
    "\n",
    "-   By default, `pd.merge()` performs inner join on all overlapping columns\n",
    "-   Argument `on` controls on which columns to match (default: use all overlapping columns)\n",
    "-   Argument `how` controls which rows to keep in result\n"
   ]
  },
  {
   "cell_type": "code",
   "execution_count": 32,
   "metadata": {},
   "outputs": [
    {
     "data": {
      "application/vnd.microsoft.datawrangler.viewer.v0+json": {
       "columns": [
        {
         "name": "index",
         "rawType": "int64",
         "type": "integer"
        },
        {
         "name": "key",
         "rawType": "int64",
         "type": "integer"
        },
        {
         "name": "value_a",
         "rawType": "object",
         "type": "string"
        },
        {
         "name": "value_b",
         "rawType": "object",
         "type": "unknown"
        }
       ],
       "ref": "437cd0fd-5c03-4557-aef4-6071927b0bda",
       "rows": [
        [
         "0",
         "0",
         "A0",
         null
        ],
        [
         "1",
         "1",
         "A1",
         "B1"
        ]
       ],
       "shape": {
        "columns": 3,
        "rows": 2
       }
      },
      "text/html": [
       "<div>\n",
       "<style scoped>\n",
       "    .dataframe tbody tr th:only-of-type {\n",
       "        vertical-align: middle;\n",
       "    }\n",
       "\n",
       "    .dataframe tbody tr th {\n",
       "        vertical-align: top;\n",
       "    }\n",
       "\n",
       "    .dataframe thead th {\n",
       "        text-align: right;\n",
       "    }\n",
       "</style>\n",
       "<table border=\"1\" class=\"dataframe\">\n",
       "  <thead>\n",
       "    <tr style=\"text-align: right;\">\n",
       "      <th></th>\n",
       "      <th>key</th>\n",
       "      <th>value_a</th>\n",
       "      <th>value_b</th>\n",
       "    </tr>\n",
       "  </thead>\n",
       "  <tbody>\n",
       "    <tr>\n",
       "      <th>0</th>\n",
       "      <td>0</td>\n",
       "      <td>A0</td>\n",
       "      <td>NaN</td>\n",
       "    </tr>\n",
       "    <tr>\n",
       "      <th>1</th>\n",
       "      <td>1</td>\n",
       "      <td>A1</td>\n",
       "      <td>B1</td>\n",
       "    </tr>\n",
       "  </tbody>\n",
       "</table>\n",
       "</div>"
      ],
      "text/plain": [
       "   key value_a value_b\n",
       "0    0      A0     NaN\n",
       "1    1      A1      B1"
      ]
     },
     "execution_count": 32,
     "metadata": {},
     "output_type": "execute_result"
    }
   ],
   "source": [
    "pd.merge(df_a, df_b, how = \"left\", on=\"key\")"
   ]
  },
  {
   "cell_type": "markdown",
   "metadata": {},
   "source": [
    "*Example: outer, left, and right join*\n",
    "\n",
    "-   Specify `how='outer'`, `how='left'`, `how='right'`"
   ]
  },
  {
   "cell_type": "markdown",
   "metadata": {},
   "source": [
    "<div class=\"alert alert-info\">\n",
    "<h3> Your turn</h3>\n",
    "Use the data files located in the folder <TT>../../data/FRED</TT> to perform the following tasks:\n",
    "<ol>\n",
    "    <li>Load the data in <TT>CPI.csv</TT> and <TT>GDP.csv</TT> into two different DataFrames.\n",
    "        The files contain monthly data for the Consumer Price Index (CPI) and quarterly data for GDP, respectively.\n",
    "        <p>\n",
    "        <i>Hint:</i> Use <TT>pd.read_csv(..., parse_dates=['DATE'])</TT> to automatically parse strings stored in the <TT>DATE</TT> column as dates.\n",
    "        </p>\n",
    "    </li>\n",
    "    <li>Merge the CPI and the GDP time series with \n",
    "    <a href=\"https://pandas.pydata.org/docs/reference/api/pandas.merge.html\"><TT>pd.merge()</TT></a> \n",
    "    without specifying the <TT>how=</TT> argument.</li>\n",
    "    <li>Merge the CPI and the GDP time series with <TT>pd.merge()</TT>\n",
    "    using a left join (<TT>how='left'</TT>).</li>\n",
    "    <li>Merge the CPI and the GDP time series with <TT>pd.merge()</TT> using an inner join (<TT>how='inner'</TT>).</li>\n",
    "</ol>\n",
    "How do the results differ depending on the value of the <TT>how</TT> argument?\n",
    "</div>"
   ]
  },
  {
   "cell_type": "code",
   "execution_count": 42,
   "metadata": {},
   "outputs": [
    {
     "name": "stdout",
     "output_type": "stream",
     "text": [
      "312\n"
     ]
    },
    {
     "data": {
      "application/vnd.microsoft.datawrangler.viewer.v0+json": {
       "columns": [
        {
         "name": "index",
         "rawType": "int64",
         "type": "integer"
        },
        {
         "name": "DATE",
         "rawType": "datetime64[ns]",
         "type": "datetime"
        },
        {
         "name": "CPI",
         "rawType": "float64",
         "type": "float"
        },
        {
         "name": "GDP",
         "rawType": "float64",
         "type": "float"
        }
       ],
       "ref": "9f774482-7479-4048-90c7-a57482e89d0d",
       "rows": [
        [
         "0",
         "1947-01-01 00:00:00",
         "21.5",
         "2182.7"
        ],
        [
         "1",
         "1947-04-01 00:00:00",
         "22.0",
         "2176.9"
        ],
        [
         "2",
         "1947-07-01 00:00:00",
         "22.2",
         "2172.4"
        ],
        [
         "3",
         "1947-10-01 00:00:00",
         "22.9",
         "2206.5"
        ],
        [
         "4",
         "1948-01-01 00:00:00",
         "23.7",
         "2239.7"
        ],
        [
         "5",
         "1948-04-01 00:00:00",
         "23.8",
         "2276.7"
        ],
        [
         "6",
         "1948-07-01 00:00:00",
         "24.4",
         "2289.8"
        ],
        [
         "7",
         "1948-10-01 00:00:00",
         "24.3",
         "2292.4"
        ],
        [
         "8",
         "1949-01-01 00:00:00",
         "24.0",
         "2260.8"
        ],
        [
         "9",
         "1949-04-01 00:00:00",
         "23.9",
         "2253.1"
        ],
        [
         "10",
         "1949-07-01 00:00:00",
         "23.7",
         "2276.4"
        ],
        [
         "11",
         "1949-10-01 00:00:00",
         "23.7",
         "2257.4"
        ],
        [
         "12",
         "1950-01-01 00:00:00",
         "23.5",
         "2346.1"
        ],
        [
         "13",
         "1950-04-01 00:00:00",
         "23.6",
         "2417.7"
        ],
        [
         "14",
         "1950-07-01 00:00:00",
         "24.1",
         "2511.1"
        ],
        [
         "15",
         "1950-10-01 00:00:00",
         "24.5",
         "2559.2"
        ],
        [
         "16",
         "1951-01-01 00:00:00",
         "25.4",
         "2594.0"
        ],
        [
         "17",
         "1951-04-01 00:00:00",
         "25.9",
         "2638.9"
        ],
        [
         "18",
         "1951-07-01 00:00:00",
         "25.9",
         "2693.3"
        ],
        [
         "19",
         "1951-10-01 00:00:00",
         "26.2",
         "2699.2"
        ],
        [
         "20",
         "1952-01-01 00:00:00",
         "26.4",
         "2728.0"
        ],
        [
         "21",
         "1952-04-01 00:00:00",
         "26.5",
         "2733.8"
        ],
        [
         "22",
         "1952-07-01 00:00:00",
         "26.7",
         "2753.5"
        ],
        [
         "23",
         "1952-10-01 00:00:00",
         "26.7",
         "2843.9"
        ],
        [
         "24",
         "1953-01-01 00:00:00",
         "26.6",
         "2896.8"
        ],
        [
         "25",
         "1953-04-01 00:00:00",
         "26.7",
         "2919.2"
        ],
        [
         "26",
         "1953-07-01 00:00:00",
         "26.8",
         "2902.8"
        ],
        [
         "27",
         "1953-10-01 00:00:00",
         "27.0",
         "2858.8"
        ],
        [
         "28",
         "1954-01-01 00:00:00",
         "26.9",
         "2845.2"
        ],
        [
         "29",
         "1954-04-01 00:00:00",
         "26.9",
         "2848.3"
        ],
        [
         "30",
         "1954-07-01 00:00:00",
         "26.9",
         "2880.5"
        ],
        [
         "31",
         "1954-10-01 00:00:00",
         "26.7",
         "2936.9"
        ],
        [
         "32",
         "1955-01-01 00:00:00",
         "26.8",
         "3020.7"
        ],
        [
         "33",
         "1955-04-01 00:00:00",
         "26.8",
         "3069.9"
        ],
        [
         "34",
         "1955-07-01 00:00:00",
         "26.8",
         "3111.4"
        ],
        [
         "35",
         "1955-10-01 00:00:00",
         "26.8",
         "3130.1"
        ],
        [
         "36",
         "1956-01-01 00:00:00",
         "26.8",
         "3117.9"
        ],
        [
         "37",
         "1956-04-01 00:00:00",
         "26.9",
         "3143.7"
        ],
        [
         "38",
         "1956-07-01 00:00:00",
         "27.3",
         "3140.9"
        ],
        [
         "39",
         "1956-10-01 00:00:00",
         "27.5",
         "3192.6"
        ],
        [
         "40",
         "1957-01-01 00:00:00",
         "27.7",
         "3213.0"
        ],
        [
         "41",
         "1957-04-01 00:00:00",
         "27.9",
         "3206.0"
        ],
        [
         "42",
         "1957-07-01 00:00:00",
         "28.2",
         "3237.4"
        ],
        [
         "43",
         "1957-10-01 00:00:00",
         "28.3",
         "3203.9"
        ],
        [
         "44",
         "1958-01-01 00:00:00",
         "28.6",
         "3120.7"
        ],
        [
         "45",
         "1958-04-01 00:00:00",
         "28.9",
         "3141.2"
        ],
        [
         "46",
         "1958-07-01 00:00:00",
         "28.9",
         "3213.9"
        ],
        [
         "47",
         "1958-10-01 00:00:00",
         "28.9",
         "3289.0"
        ],
        [
         "48",
         "1959-01-01 00:00:00",
         "29.0",
         "3352.1"
        ],
        [
         "49",
         "1959-04-01 00:00:00",
         "29.0",
         "3427.7"
        ]
       ],
       "shape": {
        "columns": 3,
        "rows": 312
       }
      },
      "text/html": [
       "<div>\n",
       "<style scoped>\n",
       "    .dataframe tbody tr th:only-of-type {\n",
       "        vertical-align: middle;\n",
       "    }\n",
       "\n",
       "    .dataframe tbody tr th {\n",
       "        vertical-align: top;\n",
       "    }\n",
       "\n",
       "    .dataframe thead th {\n",
       "        text-align: right;\n",
       "    }\n",
       "</style>\n",
       "<table border=\"1\" class=\"dataframe\">\n",
       "  <thead>\n",
       "    <tr style=\"text-align: right;\">\n",
       "      <th></th>\n",
       "      <th>DATE</th>\n",
       "      <th>CPI</th>\n",
       "      <th>GDP</th>\n",
       "    </tr>\n",
       "  </thead>\n",
       "  <tbody>\n",
       "    <tr>\n",
       "      <th>0</th>\n",
       "      <td>1947-01-01</td>\n",
       "      <td>21.5</td>\n",
       "      <td>2182.7</td>\n",
       "    </tr>\n",
       "    <tr>\n",
       "      <th>1</th>\n",
       "      <td>1947-04-01</td>\n",
       "      <td>22.0</td>\n",
       "      <td>2176.9</td>\n",
       "    </tr>\n",
       "    <tr>\n",
       "      <th>2</th>\n",
       "      <td>1947-07-01</td>\n",
       "      <td>22.2</td>\n",
       "      <td>2172.4</td>\n",
       "    </tr>\n",
       "    <tr>\n",
       "      <th>3</th>\n",
       "      <td>1947-10-01</td>\n",
       "      <td>22.9</td>\n",
       "      <td>2206.5</td>\n",
       "    </tr>\n",
       "    <tr>\n",
       "      <th>4</th>\n",
       "      <td>1948-01-01</td>\n",
       "      <td>23.7</td>\n",
       "      <td>2239.7</td>\n",
       "    </tr>\n",
       "    <tr>\n",
       "      <th>...</th>\n",
       "      <td>...</td>\n",
       "      <td>...</td>\n",
       "      <td>...</td>\n",
       "    </tr>\n",
       "    <tr>\n",
       "      <th>307</th>\n",
       "      <td>2023-10-01</td>\n",
       "      <td>307.7</td>\n",
       "      <td>22960.6</td>\n",
       "    </tr>\n",
       "    <tr>\n",
       "      <th>308</th>\n",
       "      <td>2024-01-01</td>\n",
       "      <td>309.8</td>\n",
       "      <td>23053.5</td>\n",
       "    </tr>\n",
       "    <tr>\n",
       "      <th>309</th>\n",
       "      <td>2024-04-01</td>\n",
       "      <td>313.0</td>\n",
       "      <td>23223.9</td>\n",
       "    </tr>\n",
       "    <tr>\n",
       "      <th>310</th>\n",
       "      <td>2024-07-01</td>\n",
       "      <td>313.6</td>\n",
       "      <td>23400.3</td>\n",
       "    </tr>\n",
       "    <tr>\n",
       "      <th>311</th>\n",
       "      <td>2024-10-01</td>\n",
       "      <td>315.6</td>\n",
       "      <td>23530.9</td>\n",
       "    </tr>\n",
       "  </tbody>\n",
       "</table>\n",
       "<p>312 rows × 3 columns</p>\n",
       "</div>"
      ],
      "text/plain": [
       "          DATE    CPI      GDP\n",
       "0   1947-01-01   21.5   2182.7\n",
       "1   1947-04-01   22.0   2176.9\n",
       "2   1947-07-01   22.2   2172.4\n",
       "3   1947-10-01   22.9   2206.5\n",
       "4   1948-01-01   23.7   2239.7\n",
       "..         ...    ...      ...\n",
       "307 2023-10-01  307.7  22960.6\n",
       "308 2024-01-01  309.8  23053.5\n",
       "309 2024-04-01  313.0  23223.9\n",
       "310 2024-07-01  313.6  23400.3\n",
       "311 2024-10-01  315.6  23530.9\n",
       "\n",
       "[312 rows x 3 columns]"
      ]
     },
     "execution_count": 42,
     "metadata": {},
     "output_type": "execute_result"
    }
   ],
   "source": [
    "# Data used for mini-exercise\n",
    "df_cpi = pd.read_csv(f'{DATA_PATH}/FRED/CPI.csv', parse_dates=['DATE'])\n",
    "df_gdp = pd.read_csv(f'{DATA_PATH}/FRED/GDP.csv', parse_dates=['DATE'])\n",
    "\n",
    "print(len(df_gdp[\"GDP\"]))\n",
    "\n",
    "pd.merge(df_cpi,df_gdp, on=\"DATE\", how=\"inner\")#.set_index(\"DATE\", inplace=True)\n"
   ]
  },
  {
   "cell_type": "markdown",
   "metadata": {},
   "source": [
    "#### Many-to-one merges"
   ]
  },
  {
   "cell_type": "markdown",
   "metadata": {},
   "source": [
    "*Example: merge unique values in `df_b` to multiple values in `df_a`*"
   ]
  },
  {
   "cell_type": "code",
   "execution_count": 43,
   "metadata": {},
   "outputs": [],
   "source": [
    "# Create first DataFrame with 4 rows, non-unique key\n",
    "df_a = pd.DataFrame({'key': [0, 1, 0, 1], 'value_a': ['A0', 'A1', 'A2', 'A3']})\n",
    "\n",
    "# Create second DataFrame with 2 rows, unique key\n",
    "df_b = pd.DataFrame({'key': [0, 1], 'value_b': ['B0', 'B1']})"
   ]
  },
  {
   "cell_type": "code",
   "execution_count": 44,
   "metadata": {},
   "outputs": [
    {
     "data": {
      "application/vnd.microsoft.datawrangler.viewer.v0+json": {
       "columns": [
        {
         "name": "index",
         "rawType": "int64",
         "type": "integer"
        },
        {
         "name": "key",
         "rawType": "int64",
         "type": "integer"
        },
        {
         "name": "value_a",
         "rawType": "object",
         "type": "string"
        }
       ],
       "ref": "755106d3-4177-4ebd-a11c-00412f047d59",
       "rows": [
        [
         "0",
         "0",
         "A0"
        ],
        [
         "1",
         "1",
         "A1"
        ],
        [
         "2",
         "0",
         "A2"
        ],
        [
         "3",
         "1",
         "A3"
        ]
       ],
       "shape": {
        "columns": 2,
        "rows": 4
       }
      },
      "text/html": [
       "<div>\n",
       "<style scoped>\n",
       "    .dataframe tbody tr th:only-of-type {\n",
       "        vertical-align: middle;\n",
       "    }\n",
       "\n",
       "    .dataframe tbody tr th {\n",
       "        vertical-align: top;\n",
       "    }\n",
       "\n",
       "    .dataframe thead th {\n",
       "        text-align: right;\n",
       "    }\n",
       "</style>\n",
       "<table border=\"1\" class=\"dataframe\">\n",
       "  <thead>\n",
       "    <tr style=\"text-align: right;\">\n",
       "      <th></th>\n",
       "      <th>key</th>\n",
       "      <th>value_a</th>\n",
       "    </tr>\n",
       "  </thead>\n",
       "  <tbody>\n",
       "    <tr>\n",
       "      <th>0</th>\n",
       "      <td>0</td>\n",
       "      <td>A0</td>\n",
       "    </tr>\n",
       "    <tr>\n",
       "      <th>1</th>\n",
       "      <td>1</td>\n",
       "      <td>A1</td>\n",
       "    </tr>\n",
       "    <tr>\n",
       "      <th>2</th>\n",
       "      <td>0</td>\n",
       "      <td>A2</td>\n",
       "    </tr>\n",
       "    <tr>\n",
       "      <th>3</th>\n",
       "      <td>1</td>\n",
       "      <td>A3</td>\n",
       "    </tr>\n",
       "  </tbody>\n",
       "</table>\n",
       "</div>"
      ],
      "text/plain": [
       "   key value_a\n",
       "0    0      A0\n",
       "1    1      A1\n",
       "2    0      A2\n",
       "3    1      A3"
      ]
     },
     "execution_count": 44,
     "metadata": {},
     "output_type": "execute_result"
    }
   ],
   "source": [
    "df_a"
   ]
  },
  {
   "cell_type": "code",
   "execution_count": 45,
   "metadata": {},
   "outputs": [
    {
     "data": {
      "application/vnd.microsoft.datawrangler.viewer.v0+json": {
       "columns": [
        {
         "name": "index",
         "rawType": "int64",
         "type": "integer"
        },
        {
         "name": "key",
         "rawType": "int64",
         "type": "integer"
        },
        {
         "name": "value_b",
         "rawType": "object",
         "type": "string"
        }
       ],
       "ref": "d7491aec-1896-49ac-9af8-781167d97a4d",
       "rows": [
        [
         "0",
         "0",
         "B0"
        ],
        [
         "1",
         "1",
         "B1"
        ]
       ],
       "shape": {
        "columns": 2,
        "rows": 2
       }
      },
      "text/html": [
       "<div>\n",
       "<style scoped>\n",
       "    .dataframe tbody tr th:only-of-type {\n",
       "        vertical-align: middle;\n",
       "    }\n",
       "\n",
       "    .dataframe tbody tr th {\n",
       "        vertical-align: top;\n",
       "    }\n",
       "\n",
       "    .dataframe thead th {\n",
       "        text-align: right;\n",
       "    }\n",
       "</style>\n",
       "<table border=\"1\" class=\"dataframe\">\n",
       "  <thead>\n",
       "    <tr style=\"text-align: right;\">\n",
       "      <th></th>\n",
       "      <th>key</th>\n",
       "      <th>value_b</th>\n",
       "    </tr>\n",
       "  </thead>\n",
       "  <tbody>\n",
       "    <tr>\n",
       "      <th>0</th>\n",
       "      <td>0</td>\n",
       "      <td>B0</td>\n",
       "    </tr>\n",
       "    <tr>\n",
       "      <th>1</th>\n",
       "      <td>1</td>\n",
       "      <td>B1</td>\n",
       "    </tr>\n",
       "  </tbody>\n",
       "</table>\n",
       "</div>"
      ],
      "text/plain": [
       "   key value_b\n",
       "0    0      B0\n",
       "1    1      B1"
      ]
     },
     "execution_count": 45,
     "metadata": {},
     "output_type": "execute_result"
    }
   ],
   "source": [
    "df_b"
   ]
  },
  {
   "cell_type": "code",
   "execution_count": 47,
   "metadata": {},
   "outputs": [
    {
     "data": {
      "application/vnd.microsoft.datawrangler.viewer.v0+json": {
       "columns": [
        {
         "name": "index",
         "rawType": "int64",
         "type": "integer"
        },
        {
         "name": "key",
         "rawType": "int64",
         "type": "integer"
        },
        {
         "name": "value_a",
         "rawType": "object",
         "type": "string"
        },
        {
         "name": "value_b",
         "rawType": "object",
         "type": "string"
        }
       ],
       "ref": "577b72e0-7895-42e0-8c09-9057893733cb",
       "rows": [
        [
         "0",
         "0",
         "A0",
         "B0"
        ],
        [
         "1",
         "1",
         "A1",
         "B1"
        ],
        [
         "2",
         "0",
         "A2",
         "B0"
        ],
        [
         "3",
         "1",
         "A3",
         "B1"
        ]
       ],
       "shape": {
        "columns": 3,
        "rows": 4
       }
      },
      "text/html": [
       "<div>\n",
       "<style scoped>\n",
       "    .dataframe tbody tr th:only-of-type {\n",
       "        vertical-align: middle;\n",
       "    }\n",
       "\n",
       "    .dataframe tbody tr th {\n",
       "        vertical-align: top;\n",
       "    }\n",
       "\n",
       "    .dataframe thead th {\n",
       "        text-align: right;\n",
       "    }\n",
       "</style>\n",
       "<table border=\"1\" class=\"dataframe\">\n",
       "  <thead>\n",
       "    <tr style=\"text-align: right;\">\n",
       "      <th></th>\n",
       "      <th>key</th>\n",
       "      <th>value_a</th>\n",
       "      <th>value_b</th>\n",
       "    </tr>\n",
       "  </thead>\n",
       "  <tbody>\n",
       "    <tr>\n",
       "      <th>0</th>\n",
       "      <td>0</td>\n",
       "      <td>A0</td>\n",
       "      <td>B0</td>\n",
       "    </tr>\n",
       "    <tr>\n",
       "      <th>1</th>\n",
       "      <td>1</td>\n",
       "      <td>A1</td>\n",
       "      <td>B1</td>\n",
       "    </tr>\n",
       "    <tr>\n",
       "      <th>2</th>\n",
       "      <td>0</td>\n",
       "      <td>A2</td>\n",
       "      <td>B0</td>\n",
       "    </tr>\n",
       "    <tr>\n",
       "      <th>3</th>\n",
       "      <td>1</td>\n",
       "      <td>A3</td>\n",
       "      <td>B1</td>\n",
       "    </tr>\n",
       "  </tbody>\n",
       "</table>\n",
       "</div>"
      ],
      "text/plain": [
       "   key value_a value_b\n",
       "0    0      A0      B0\n",
       "1    1      A1      B1\n",
       "2    0      A2      B0\n",
       "3    1      A3      B1"
      ]
     },
     "execution_count": 47,
     "metadata": {},
     "output_type": "execute_result"
    }
   ],
   "source": [
    "pd.merge(df_a, df_b, validate=\"m:1\")"
   ]
  },
  {
   "cell_type": "markdown",
   "metadata": {},
   "source": [
    "***\n",
    "### Merging with `DataFrame.merge()`\n",
    "\n",
    "-   Equivalent to `pd.merge()`"
   ]
  },
  {
   "cell_type": "markdown",
   "metadata": {},
   "source": [
    "*Example: repeat one-to-one merges from above*"
   ]
  },
  {
   "cell_type": "code",
   "execution_count": 50,
   "metadata": {},
   "outputs": [],
   "source": [
    "# Create first DataFrame with 2 rows\n",
    "df_a = pd.DataFrame({'key': [0, 1], 'value_a': ['A0', 'A1']})\n",
    "\n",
    "# Create second DataFrame with 2 rows\n",
    "df_b = pd.DataFrame({'key': [1, 2], 'value_b': ['B1', 'B2']})"
   ]
  },
  {
   "cell_type": "markdown",
   "metadata": {},
   "source": [
    "*Example: Merging with overlapping column names*"
   ]
  },
  {
   "cell_type": "code",
   "execution_count": 51,
   "metadata": {},
   "outputs": [],
   "source": [
    "# Rename columns to common name 'value'\n",
    "df_a = df_a.rename(columns={'value_a': 'value'})\n",
    "df_b = df_b.rename(columns={'value_b': 'value'})"
   ]
  },
  {
   "cell_type": "code",
   "execution_count": 53,
   "metadata": {},
   "outputs": [
    {
     "data": {
      "application/vnd.microsoft.datawrangler.viewer.v0+json": {
       "columns": [
        {
         "name": "index",
         "rawType": "int64",
         "type": "integer"
        },
        {
         "name": "key",
         "rawType": "int64",
         "type": "integer"
        },
        {
         "name": "value_x",
         "rawType": "object",
         "type": "unknown"
        },
        {
         "name": "value_y",
         "rawType": "object",
         "type": "unknown"
        }
       ],
       "ref": "cd37ed01-e217-44ae-861d-d241a98c54eb",
       "rows": [
        [
         "0",
         "0",
         "A0",
         null
        ],
        [
         "1",
         "1",
         "A1",
         "B1"
        ],
        [
         "2",
         "2",
         null,
         "B2"
        ]
       ],
       "shape": {
        "columns": 3,
        "rows": 3
       }
      },
      "text/html": [
       "<div>\n",
       "<style scoped>\n",
       "    .dataframe tbody tr th:only-of-type {\n",
       "        vertical-align: middle;\n",
       "    }\n",
       "\n",
       "    .dataframe tbody tr th {\n",
       "        vertical-align: top;\n",
       "    }\n",
       "\n",
       "    .dataframe thead th {\n",
       "        text-align: right;\n",
       "    }\n",
       "</style>\n",
       "<table border=\"1\" class=\"dataframe\">\n",
       "  <thead>\n",
       "    <tr style=\"text-align: right;\">\n",
       "      <th></th>\n",
       "      <th>key</th>\n",
       "      <th>value_x</th>\n",
       "      <th>value_y</th>\n",
       "    </tr>\n",
       "  </thead>\n",
       "  <tbody>\n",
       "    <tr>\n",
       "      <th>0</th>\n",
       "      <td>0</td>\n",
       "      <td>A0</td>\n",
       "      <td>NaN</td>\n",
       "    </tr>\n",
       "    <tr>\n",
       "      <th>1</th>\n",
       "      <td>1</td>\n",
       "      <td>A1</td>\n",
       "      <td>B1</td>\n",
       "    </tr>\n",
       "    <tr>\n",
       "      <th>2</th>\n",
       "      <td>2</td>\n",
       "      <td>NaN</td>\n",
       "      <td>B2</td>\n",
       "    </tr>\n",
       "  </tbody>\n",
       "</table>\n",
       "</div>"
      ],
      "text/plain": [
       "   key value_x value_y\n",
       "0    0      A0     NaN\n",
       "1    1      A1      B1\n",
       "2    2     NaN      B2"
      ]
     },
     "execution_count": 53,
     "metadata": {},
     "output_type": "execute_result"
    }
   ],
   "source": [
    "df_a.merge(df_b, on=\"key\", how=\"outer\")"
   ]
  },
  {
   "cell_type": "markdown",
   "metadata": {},
   "source": [
    "<div class=\"alert alert-info\">\n",
    "<h3> Your turn</h3>\n",
    "Repeat the previous exercise, but use the <a href=\"https://pandas.pydata.org/docs/reference/api/pandas.DataFrame.merge.html\"><TT>DataFrame.merge()</TT></a> \n",
    "method to perform the merge.\n",
    "<ol>\n",
    "    <li>Load the data in <TT>CPI.csv</TT> and <TT>GDP.csv</TT> into two different DataFrames.\n",
    "        The files contain monthly data for the Consumer Price Index (CPI) and quarterly data for GDP, respectively.\n",
    "        <p>\n",
    "        <i>Hint:</i> Use <TT>pd.read_csv(..., parse_dates=['DATE'])</TT> to automatically parse strings stored in the <TT>DATE</TT> column as dates.\n",
    "        </p>\n",
    "    </li>\n",
    "    <li>Merge the DataFrame containing the CPI with the DataFrame containing GDP without specifying the <TT>how=</TT> argument.</li>\n",
    "    <li>Merge the DataFrame containing the CPI with the DataFrame containing GDP using a <i>left</i> join.</li>\n",
    "    <li>Merge the DataFrame containing the CPI with the DataFrame containing GDP using an <i>inner</i> join.</li>\n",
    "</ol>\n",
    "How do the results differ depending on the value of the <TT>how</TT> argument?\n",
    "</div>"
   ]
  },
  {
   "cell_type": "code",
   "execution_count": null,
   "metadata": {},
   "outputs": [],
   "source": [
    "# Data used for mini-exercise\n",
    "df_cpi = pd.read_csv(f'{DATA_PATH}/FRED/CPI.csv', parse_dates=['DATE'])\n",
    "df_gdp = pd.read_csv(f'{DATA_PATH}/FRED/GDP.csv', parse_dates=['DATE'])"
   ]
  },
  {
   "cell_type": "markdown",
   "metadata": {},
   "source": [
    "***\n",
    "### Joining with `join()`\n",
    "\n",
    "The `DataFrame` method \n",
    "[`join()`](https://pandas.pydata.org/docs/reference/api/pandas.DataFrame.join.html) \n",
    "is a convenience wrapper around \n",
    "[`pd.merge()`](https://pandas.pydata.org/docs/reference/api/pandas.merge.html):\n",
    "\n",
    "1.  `join()` can be called _only_ directly on the `DataFrame` object\n",
    "2.  `join()` always operates on the _index_ of the other `DataFrame`\n",
    "3.  `join()` by default performs a `left` join, whereas `merge()` performs an `inner` join\n",
    "\n",
    "Use `join()` if you want to join DataFrames which have a similar index."
   ]
  },
  {
   "cell_type": "markdown",
   "metadata": {},
   "source": [
    "*Example: joining DataFrames*"
   ]
  },
  {
   "cell_type": "code",
   "execution_count": null,
   "metadata": {},
   "outputs": [],
   "source": [
    "# Create first DataFrame with 2 rows\n",
    "df_a = pd.DataFrame(['A0', 'A1'], columns=['value_a'], index=[0, 1])\n",
    "\n",
    "# Create second DataFrame with 2 rows\n",
    "df_b = pd.DataFrame(['B1', 'B2'], columns=['value_b'], index=[1, 2])"
   ]
  },
  {
   "cell_type": "markdown",
   "metadata": {},
   "source": [
    "<div class=\"alert alert-info\">\n",
    "<h3> Your turn</h3>\n",
    "Use the data files located in the folder <TT>../../data/FRED</TT> to perform the following tasks:\n",
    "<ol>\n",
    "    <li>Load the data in <TT>CPI.csv</TT> and <TT>GDP.csv</TT> into two different DataFrames.\n",
    "        The files contain monthly data for the Consumer Price Index (CPI) and quarterly data for GDP, respectively.\n",
    "        <br/>\n",
    "        <i>Hint:</i> Use <TT>pd.read_csv(..., parse_dates=['DATE'])</TT> to automatically parse strings stored in the <TT>DATE</TT> column as dates.\n",
    "        </li>\n",
    "    <li>Set the <TT>DATE</TT> column as the index for each of the two DataFrames.</li>\n",
    "    <li>Merge the CPI with the GDP time series with \n",
    "    <a href=\"https://pandas.pydata.org/docs/reference/api/pandas.DataFrame.join.html\"><TT>join()</TT></a>. \n",
    "    Do this with both a left and an inner join.</li>\n",
    "</ol>\n",
    "</div>"
   ]
  },
  {
   "cell_type": "code",
   "execution_count": null,
   "metadata": {},
   "outputs": [],
   "source": [
    "# Data used for mini-exercise\n",
    "df_cpi = pd.read_csv(f'{DATA_PATH}/FRED/CPI.csv', parse_dates=['DATE'])\n",
    "df_gdp = pd.read_csv(f'{DATA_PATH}/FRED/GDP.csv', parse_dates=['DATE'])"
   ]
  },
  {
   "cell_type": "markdown",
   "metadata": {},
   "source": [
    "***\n",
    "# Dealing with missing values\n",
    "\n",
    "-   Often created as result of `pd.merge()` or `pd.concat()` if operands don't have the same row or column index"
   ]
  },
  {
   "cell_type": "code",
   "execution_count": 58,
   "metadata": {},
   "outputs": [
    {
     "data": {
      "application/vnd.microsoft.datawrangler.viewer.v0+json": {
       "columns": [
        {
         "name": "index",
         "rawType": "int64",
         "type": "integer"
        },
        {
         "name": "key",
         "rawType": "int64",
         "type": "integer"
        },
        {
         "name": "value_a",
         "rawType": "object",
         "type": "unknown"
        },
        {
         "name": "value_b",
         "rawType": "object",
         "type": "unknown"
        }
       ],
       "ref": "02058024-7757-4543-ad41-ab47e245faa7",
       "rows": [
        [
         "0",
         "0",
         "A0",
         null
        ],
        [
         "1",
         "1",
         "A1",
         "B1"
        ],
        [
         "2",
         "2",
         null,
         "B2"
        ]
       ],
       "shape": {
        "columns": 3,
        "rows": 3
       }
      },
      "text/html": [
       "<div>\n",
       "<style scoped>\n",
       "    .dataframe tbody tr th:only-of-type {\n",
       "        vertical-align: middle;\n",
       "    }\n",
       "\n",
       "    .dataframe tbody tr th {\n",
       "        vertical-align: top;\n",
       "    }\n",
       "\n",
       "    .dataframe thead th {\n",
       "        text-align: right;\n",
       "    }\n",
       "</style>\n",
       "<table border=\"1\" class=\"dataframe\">\n",
       "  <thead>\n",
       "    <tr style=\"text-align: right;\">\n",
       "      <th></th>\n",
       "      <th>key</th>\n",
       "      <th>value_a</th>\n",
       "      <th>value_b</th>\n",
       "    </tr>\n",
       "  </thead>\n",
       "  <tbody>\n",
       "    <tr>\n",
       "      <th>0</th>\n",
       "      <td>0</td>\n",
       "      <td>A0</td>\n",
       "      <td>NaN</td>\n",
       "    </tr>\n",
       "    <tr>\n",
       "      <th>1</th>\n",
       "      <td>1</td>\n",
       "      <td>A1</td>\n",
       "      <td>B1</td>\n",
       "    </tr>\n",
       "    <tr>\n",
       "      <th>2</th>\n",
       "      <td>2</td>\n",
       "      <td>NaN</td>\n",
       "      <td>B2</td>\n",
       "    </tr>\n",
       "  </tbody>\n",
       "</table>\n",
       "</div>"
      ],
      "text/plain": [
       "   key value_a value_b\n",
       "0    0      A0     NaN\n",
       "1    1      A1      B1\n",
       "2    2     NaN      B2"
      ]
     },
     "execution_count": 58,
     "metadata": {},
     "output_type": "execute_result"
    }
   ],
   "source": [
    "# Create two DataFrames with partially overlapping keys\n",
    "df_a = pd.DataFrame({'key': [0, 1], 'value_a': ['A0', 'A1']})\n",
    "df_b = pd.DataFrame({'key': [1, 2], 'value_b': ['B1', 'B2']})\n",
    "\n",
    "# Merge with outer join, thus creating missing values\n",
    "df = pd.merge(df_a, df_b, on='key', how='outer')\n",
    "df"
   ]
  },
  {
   "cell_type": "markdown",
   "metadata": {},
   "source": [
    "## Dropping missing values\n",
    "\n",
    "Missing values can be dropped by either\n",
    "\n",
    "1.  Using [`dropna()`](https://pandas.pydata.org/docs/reference/api/pandas.DataFrame.dropna.html)\n",
    "2.  Selecting a subset of observations with a boolean operation such as \n",
    "    [`notna()`](https://pandas.pydata.org/docs/reference/api/pandas.DataFrame.notna.html) or \n",
    "    [`isna()`](https://pandas.pydata.org/docs/reference/api/pandas.DataFrame.isna.html).\n",
    "2. Avoiding the missing values in the first place, e.g., by using `merge(..., how='inner')`."
   ]
  },
  {
   "cell_type": "markdown",
   "metadata": {},
   "source": [
    "*Example: Dropping missing values*\n",
    "\n",
    "- Use _outer/left/right join_ and drop missing data with `dropna()`"
   ]
  },
  {
   "cell_type": "markdown",
   "metadata": {},
   "source": [
    "<div class=\"alert alert-info\">\n",
    "<h3> Your turn</h3>\n",
    "Instead of using <TT>dropna()</TT>, drop the missing observations using either <TT>notna()</TT> or <TT>isna()</TT>.\n",
    "<ol>\n",
    "    <li>Drop all rows with any missing observations.</li>\n",
    "    <li>Drop all rows with missing observations in column <TT>value_a</TT>.</li>\n",
    "</ol>\n",
    "</div>"
   ]
  },
  {
   "cell_type": "code",
   "execution_count": 60,
   "metadata": {},
   "outputs": [
    {
     "data": {
      "application/vnd.microsoft.datawrangler.viewer.v0+json": {
       "columns": [
        {
         "name": "index",
         "rawType": "int64",
         "type": "integer"
        },
        {
         "name": "key",
         "rawType": "int64",
         "type": "integer"
        },
        {
         "name": "value_a",
         "rawType": "object",
         "type": "string"
        },
        {
         "name": "value_b",
         "rawType": "object",
         "type": "unknown"
        }
       ],
       "ref": "2f6ba4d0-3bef-4cac-bf08-0692a9f829f0",
       "rows": [
        [
         "0",
         "0",
         "A0",
         null
        ],
        [
         "1",
         "1",
         "A1",
         "B1"
        ]
       ],
       "shape": {
        "columns": 3,
        "rows": 2
       }
      },
      "text/html": [
       "<div>\n",
       "<style scoped>\n",
       "    .dataframe tbody tr th:only-of-type {\n",
       "        vertical-align: middle;\n",
       "    }\n",
       "\n",
       "    .dataframe tbody tr th {\n",
       "        vertical-align: top;\n",
       "    }\n",
       "\n",
       "    .dataframe thead th {\n",
       "        text-align: right;\n",
       "    }\n",
       "</style>\n",
       "<table border=\"1\" class=\"dataframe\">\n",
       "  <thead>\n",
       "    <tr style=\"text-align: right;\">\n",
       "      <th></th>\n",
       "      <th>key</th>\n",
       "      <th>value_a</th>\n",
       "      <th>value_b</th>\n",
       "    </tr>\n",
       "  </thead>\n",
       "  <tbody>\n",
       "    <tr>\n",
       "      <th>0</th>\n",
       "      <td>0</td>\n",
       "      <td>A0</td>\n",
       "      <td>NaN</td>\n",
       "    </tr>\n",
       "    <tr>\n",
       "      <th>1</th>\n",
       "      <td>1</td>\n",
       "      <td>A1</td>\n",
       "      <td>B1</td>\n",
       "    </tr>\n",
       "  </tbody>\n",
       "</table>\n",
       "</div>"
      ],
      "text/plain": [
       "   key value_a value_b\n",
       "0    0      A0     NaN\n",
       "1    1      A1      B1"
      ]
     },
     "execution_count": 60,
     "metadata": {},
     "output_type": "execute_result"
    }
   ],
   "source": [
    "df.loc[df[\"value_a\"].notna()]"
   ]
  },
  {
   "cell_type": "markdown",
   "metadata": {},
   "source": [
    "*Example: Avoiding missing values in the first place*\n",
    "\n",
    "- E.g., use _inner join_ when merging data sets"
   ]
  },
  {
   "cell_type": "markdown",
   "metadata": {},
   "source": [
    "## Filling missing values\n",
    "\n",
    "Instead of dropping data, we can impute missing values in various ways:\n",
    "\n",
    "1.  [`fillna()`](https://pandas.pydata.org/docs/reference/api/pandas.DataFrame.fillna.html): replace missing data with user-specified values\n",
    "2.  [`ffill()`](https://pandas.pydata.org/docs/reference/api/pandas.DataFrame.ffill.html) and \n",
    "    [`bfill()`](https://pandas.pydata.org/docs/reference/api/pandas.DataFrame.bfill.html): fill missing values\n",
    "    forward or backward from adjacent non-missing observations\n",
    "3.  [`interpolate()`](https://pandas.pydata.org/docs/reference/api/pandas.DataFrame.interpolate.html): interpolate missing values based on non-missing ones"
   ]
  },
  {
   "cell_type": "markdown",
   "metadata": {},
   "source": [
    "*Example: Replacing missing values with `fillna()`*\n",
    "\n",
    "- Specify one value for _entire_ `DataFrame`\n",
    "- Specify different value for each column using a dictionary"
   ]
  },
  {
   "cell_type": "markdown",
   "metadata": {},
   "source": [
    "*Example: forward- or backward-filling missing values*\n",
    "\n",
    "- Use [`ffill()`](https://pandas.pydata.org/docs/reference/api/pandas.DataFrame.ffill.html) to forward-fill\n",
    "- Use [`bfill()`](https://pandas.pydata.org/docs/reference/api/pandas.DataFrame.bfill.html) to backward-fill"
   ]
  },
  {
   "cell_type": "markdown",
   "metadata": {},
   "source": [
    "*Example: linear interpolation*\n",
    "\n",
    "- Use [`interpolate()`](https://pandas.pydata.org/docs/reference/api/pandas.Series.interpolate.html) to interpolate missing _numerical_ data (e.g., `method='linear'`)"
   ]
  },
  {
   "cell_type": "code",
   "execution_count": null,
   "metadata": {},
   "outputs": [],
   "source": [
    "s = pd.Series([1.0, 2.0, 3.0, np.nan, 5.0])"
   ]
  },
  {
   "cell_type": "markdown",
   "metadata": {},
   "source": [
    "<div class=\"alert alert-info\">\n",
    "<h3> Your turn</h3>\n",
    "Use the data files located in the folder <TT>../../data/FRED</TT> to perform the following tasks:\n",
    "<ol>\n",
    "    <li>Load the data in <TT>CPI.csv</TT> and <TT>GDP.csv</TT> into two different DataFrames.\n",
    "        The files contain monthly data for the Consumer Price Index (CPI) and quarterly data for GDP, respectively.\n",
    "        <br/>\n",
    "        <i>Hint:</i> Use <TT>pd.read_csv(..., parse_dates=['DATE'])</TT> to automatically parse strings stored in the <TT>DATE</TT> column as dates.\n",
    "        </li>\n",
    "    <li>Merge the CPI with the GDP time series with <TT>merge()</TT> using a left join. This creates missing values in the <TT>GDP</TT>\n",
    "    column.</li>\n",
    "    <li>Impute the missing GDP values using <a href=\"https://pandas.pydata.org/docs/reference/api/pandas.Series.interpolate.html\"><TT>interpolate()</TT></a> \n",
    "    and replace the missing values in column <TT>GDP</TT>.</li>\n",
    "</ol>\n",
    "</div>"
   ]
  }
 ],
 "metadata": {
  "kernelspec": {
   "display_name": "TECH2",
   "language": "python",
   "name": "python3"
  },
  "language_info": {
   "codemirror_mode": {
    "name": "ipython",
    "version": 3
   },
   "file_extension": ".py",
   "mimetype": "text/x-python",
   "name": "python",
   "nbconvert_exporter": "python",
   "pygments_lexer": "ipython3",
   "version": "3.13.5"
  }
 },
 "nbformat": 4,
 "nbformat_minor": 0
}
